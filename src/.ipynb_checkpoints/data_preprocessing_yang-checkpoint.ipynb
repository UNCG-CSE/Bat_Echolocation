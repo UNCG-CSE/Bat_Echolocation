{
 "cells": [
  {
   "cell_type": "markdown",
   "metadata": {},
   "source": [
    "# Import data methods:\n",
    "1. Reading zero-crossing file and extract time, frequency, amplitude and metadata information.(preferred)"
   ]
  },
  {
   "cell_type": "code",
   "execution_count": 1,
   "metadata": {},
   "outputs": [],
   "source": [
    "%matplotlib inline\n",
    "import matplotlib.pyplot as plt\n",
    "import numpy as np\n",
    "from util.anabat import *\n",
    "import random\n",
    "import os\n",
    "import pandas as pd\n",
    "\n",
    "# Set some Pandas options\n",
    "pd.set_option('notebook_repr_html', True)\n",
    "pd.set_option('max_columns', 30)\n",
    "pd.set_option('max_rows', 20)"
   ]
  },
  {
   "cell_type": "code",
   "execution_count": 2,
   "metadata": {},
   "outputs": [],
   "source": [
    "# Call extract_anabat from util.anabat to extract time, frequency, amplitude and partial metadata from zero-crossing file\n",
    "info=extract_anabat('../data/P7132033.37#')  # P7132035.14#  P7132033.37#  ../data/social/S8072135.07#\n",
    "info2=extract_anabat('../data/social/S8072135.07#') "
   ]
  },
  {
   "cell_type": "code",
   "execution_count": 3,
   "metadata": {},
   "outputs": [],
   "source": [
    "t=info[0]\n",
    "freq=info[1]\n",
    "ampl=info[2]\n",
    "metadata=info[3]"
   ]
  },
  {
   "cell_type": "code",
   "execution_count": 66,
   "metadata": {},
   "outputs": [
    {
     "data": {
      "text/plain": [
       "{'date': '        ',\n",
       " 'divratio': 8,\n",
       " 'gps': '',\n",
       " 'id': '',\n",
       " 'loc': '',\n",
       " 'note1': 'V4062g',\n",
       " 'note2': '',\n",
       " 'spec': 'SD1 Mod1',\n",
       " 'species': ['PERSUB '],\n",
       " 'timestamp': datetime.datetime(2015, 7, 13, 20, 33, 37, 290175)}"
      ]
     },
     "execution_count": 66,
     "metadata": {},
     "output_type": "execute_result"
    }
   ],
   "source": [
    "metadata"
   ]
  },
  {
   "cell_type": "code",
   "execution_count": 70,
   "metadata": {},
   "outputs": [
    {
     "data": {
      "text/plain": [
       "11.817265999999998"
      ]
     },
     "execution_count": 70,
     "metadata": {},
     "output_type": "execute_result"
    }
   ],
   "source": [
    "t[-1]-t[0]"
   ]
  },
  {
   "cell_type": "code",
   "execution_count": 79,
   "metadata": {},
   "outputs": [
    {
     "data": {
      "text/plain": [
       "dict"
      ]
     },
     "execution_count": 79,
     "metadata": {},
     "output_type": "execute_result"
    }
   ],
   "source": [
    "type(metadata)"
   ]
  },
  {
   "cell_type": "code",
   "execution_count": 80,
   "metadata": {},
   "outputs": [
    {
     "data": {
      "text/plain": [
       "(array([1.0800000e-04, 2.1100000e-04, 3.1800000e-04, ..., 1.4994706e+01,\n",
       "        1.4995120e+01, 1.4995673e+01]),\n",
       " array([38095.23809524, 37383.17757009, 37735.8490566 , ...,\n",
       "         8273.00930714,  9569.37799044,  9478.67298579]),\n",
       " None,\n",
       " {'date': '        ',\n",
       "  'divratio': 8,\n",
       "  'gps': '',\n",
       "  'id': '',\n",
       "  'loc': '',\n",
       "  'note1': 'V4062g',\n",
       "  'note2': '',\n",
       "  'spec': 'SD1 Mod1',\n",
       "  'species': ['social', 'NYHU'],\n",
       "  'timestamp': datetime.datetime(2018, 8, 7, 21, 35, 7, 496625)})"
      ]
     },
     "execution_count": 80,
     "metadata": {},
     "output_type": "execute_result"
    }
   ],
   "source": [
    "info2"
   ]
  },
  {
   "cell_type": "code",
   "execution_count": null,
   "metadata": {},
   "outputs": [],
   "source": []
  },
  {
   "cell_type": "code",
   "execution_count": 5,
   "metadata": {},
   "outputs": [
    {
     "data": {
      "image/png": "[encoded data removed]",
      "text/plain": [
       "<Figure size 864x216 with 1 Axes>"
      ]
     },
     "metadata": {},
     "output_type": "display_data"
    }
   ],
   "source": [
    "#visualization\n",
    "plt.figure(figsize=(12,3))\n",
    "plt.scatter(t, freq, s=2)\n",
    "plt.xticks(np.arange(1, 1.6, 0.05))\n",
    "plt.xlim(1, 1.5)\n",
    "plt.title(\"scatter\")\n",
    "plt.grid()"
   ]
  },
  {
   "cell_type": "markdown",
   "metadata": {},
   "source": [
    "2.Read from .csv files of time and freq that decoded using R."
   ]
  },
  {
   "cell_type": "code",
   "execution_count": 6,
   "metadata": {},
   "outputs": [],
   "source": [
    "# Read time and frequency data from a csv sample data file. \n",
    "# The data in csv file is processed using R from Bat acoustic recording (zero-crossing file) encoded by Anabat file format 132.(AnabatTools.R--see R codes for details)\n",
    "import csv\n",
    "\n",
    "call_list = list(csv.reader(open('../data/P7132033_37.csv', 'rb')))[1:]\n",
    "#print call_list"
   ]
  },
  {
   "cell_type": "markdown",
   "metadata": {},
   "source": [
    "# Remove noise and extract valid pulse signals \n",
    "\n",
    "1. Call remove_noise function from util.anabat to remove the noises of original zc file.\n",
    "2. Get the returned valid pulses.\n",
    "3. Use display_pulses method from util.anabat to plot a few random sample of the valid pulses."
   ]
  },
  {
   "cell_type": "code",
   "execution_count": 7,
   "metadata": {},
   "outputs": [],
   "source": [
    "# remove noise \n",
    "pulses=remove_noise(t,freq)"
   ]
  },
  {
   "cell_type": "code",
   "execution_count": 8,
   "metadata": {},
   "outputs": [
    {
     "data": {
      "text/plain": [
       "23"
      ]
     },
     "execution_count": 8,
     "metadata": {},
     "output_type": "execute_result"
    }
   ],
   "source": [
    "# length of pulses in a given zc file\n",
    "num = len(pulses)\n",
    "num "
   ]
  },
  {
   "cell_type": "code",
   "execution_count": 9,
   "metadata": {},
   "outputs": [
    {
     "data": {
      "image/png": "[encoded data removed]",
      "text/plain": [
       "<Figure size 720x576 with 16 Axes>"
      ]
     },
     "metadata": {},
     "output_type": "display_data"
    }
   ],
   "source": [
    "# plot random pulses sample\n",
    "display_pulses(pulses, nrows=4, ncols=4, figsize=(10,8))"
   ]
  },
  {
   "cell_type": "markdown",
   "metadata": {},
   "source": [
    "# Search abnormal labeled data files in a folder\n",
    "\n",
    "Call get_labeled_file util method in anabat module."
   ]
  },
  {
   "cell_type": "code",
   "execution_count": 12,
   "metadata": {
    "scrolled": true
   },
   "outputs": [
    {
     "data": {
      "text/plain": [
       "['S7152113.44#', 'S7152121.42#']"
      ]
     },
     "execution_count": 12,
     "metadata": {},
     "output_type": "execute_result"
    }
   ],
   "source": [
    "# Example of find bat acoustic files contains social call (have \"social\" label in metadata)\n",
    "datadir='D:\\\\dropbox_backup\\\\acoustic social auto id\\\\bat recordings\\\\transects\\\\2018\\\\cell-75\\\\20180715\\\\'\n",
    "label='social'\n",
    "get_labeled_file(datadir,label)"
   ]
  },
  {
   "cell_type": "markdown",
   "metadata": {},
   "source": [
    "# Descriptive Analysis\n",
    "\n",
    "15kHz-120kHz\n",
    "\n",
    "5% of social calls."
   ]
  },
  {
   "cell_type": "code",
   "execution_count": 37,
   "metadata": {},
   "outputs": [],
   "source": [
    "data2015 = pd.read_csv('../data/2015_night.txt', sep=\"\\t\")\n",
    "data2016 = pd.read_csv('../data/2016_night.txt', sep=\"\\t\")\n",
    "data2017 = pd.read_csv('../data/2017_night.txt', sep=\"\\t\")\n",
    "data2018 = pd.read_csv('../data/2018_night.txt', sep=\"\\t\")"
   ]
  },
  {
   "cell_type": "code",
   "execution_count": 40,
   "metadata": {},
   "outputs": [
    {
     "data": {
      "text/html": [
       "<div>\n",
       "<style scoped>\n",
       "    .dataframe tbody tr th:only-of-type {\n",
       "        vertical-align: middle;\n",
       "    }\n",
       "\n",
       "    .dataframe tbody tr th {\n",
       "        vertical-align: top;\n",
       "    }\n",
       "\n",
       "    .dataframe thead th {\n",
       "        text-align: right;\n",
       "    }\n",
       "</style>\n",
       "<table border=\"1\" class=\"dataframe\">\n",
       "  <thead>\n",
       "    <tr style=\"text-align: right;\">\n",
       "      <th></th>\n",
       "      <th>Folder1</th>\n",
       "      <th>Folder2</th>\n",
       "      <th>Night</th>\n",
       "      <th>Label</th>\n",
       "      <th>Number</th>\n",
       "    </tr>\n",
       "  </thead>\n",
       "  <tbody>\n",
       "    <tr>\n",
       "      <th>0</th>\n",
       "      <td>cell-0</td>\n",
       "      <td>20180610</td>\n",
       "      <td>2018/06/10</td>\n",
       "      <td>LABO</td>\n",
       "      <td>5</td>\n",
       "    </tr>\n",
       "    <tr>\n",
       "      <th>1</th>\n",
       "      <td>cell-0</td>\n",
       "      <td>20180610</td>\n",
       "      <td>2018/06/10</td>\n",
       "      <td>LACI</td>\n",
       "      <td>2</td>\n",
       "    </tr>\n",
       "    <tr>\n",
       "      <th>2</th>\n",
       "      <td>cell-0</td>\n",
       "      <td>20180610</td>\n",
       "      <td>2018/06/10</td>\n",
       "      <td>LANO</td>\n",
       "      <td>1</td>\n",
       "    </tr>\n",
       "    <tr>\n",
       "      <th>3</th>\n",
       "      <td>cell-0</td>\n",
       "      <td>20180610</td>\n",
       "      <td>2018/06/10</td>\n",
       "      <td>NOID</td>\n",
       "      <td>4</td>\n",
       "    </tr>\n",
       "    <tr>\n",
       "      <th>4</th>\n",
       "      <td>cell-0</td>\n",
       "      <td>20180610</td>\n",
       "      <td>2018/06/10</td>\n",
       "      <td>NYHU</td>\n",
       "      <td>1</td>\n",
       "    </tr>\n",
       "    <tr>\n",
       "      <th>5</th>\n",
       "      <td>cell-0</td>\n",
       "      <td>20180610</td>\n",
       "      <td>2018/06/10</td>\n",
       "      <td>PESU</td>\n",
       "      <td>1</td>\n",
       "    </tr>\n",
       "    <tr>\n",
       "      <th>6</th>\n",
       "      <td>cell-0</td>\n",
       "      <td>20180610</td>\n",
       "      <td>2018/06/10</td>\n",
       "      <td>TABR</td>\n",
       "      <td>4</td>\n",
       "    </tr>\n",
       "    <tr>\n",
       "      <th>7</th>\n",
       "      <td>cell-0</td>\n",
       "      <td>20180616</td>\n",
       "      <td>2018/06/16</td>\n",
       "      <td>LABO</td>\n",
       "      <td>6</td>\n",
       "    </tr>\n",
       "    <tr>\n",
       "      <th>8</th>\n",
       "      <td>cell-0</td>\n",
       "      <td>20180616</td>\n",
       "      <td>2018/06/16</td>\n",
       "      <td>NOID</td>\n",
       "      <td>5</td>\n",
       "    </tr>\n",
       "    <tr>\n",
       "      <th>9</th>\n",
       "      <td>cell-0</td>\n",
       "      <td>20180616</td>\n",
       "      <td>2018/06/16</td>\n",
       "      <td>TABR</td>\n",
       "      <td>3</td>\n",
       "    </tr>\n",
       "    <tr>\n",
       "      <th>...</th>\n",
       "      <td>...</td>\n",
       "      <td>...</td>\n",
       "      <td>...</td>\n",
       "      <td>...</td>\n",
       "      <td>...</td>\n",
       "    </tr>\n",
       "    <tr>\n",
       "      <th>360</th>\n",
       "      <td>cell-94</td>\n",
       "      <td>20180730</td>\n",
       "      <td>2018/07/30</td>\n",
       "      <td>LANO</td>\n",
       "      <td>1</td>\n",
       "    </tr>\n",
       "    <tr>\n",
       "      <th>361</th>\n",
       "      <td>cell-94</td>\n",
       "      <td>20180730</td>\n",
       "      <td>2018/07/30</td>\n",
       "      <td>NOID</td>\n",
       "      <td>46</td>\n",
       "    </tr>\n",
       "    <tr>\n",
       "      <th>362</th>\n",
       "      <td>cell-94</td>\n",
       "      <td>20180730</td>\n",
       "      <td>2018/07/30</td>\n",
       "      <td>NYHU</td>\n",
       "      <td>4</td>\n",
       "    </tr>\n",
       "    <tr>\n",
       "      <th>363</th>\n",
       "      <td>cell-94</td>\n",
       "      <td>20180730</td>\n",
       "      <td>2018/07/30</td>\n",
       "      <td>PESU</td>\n",
       "      <td>8</td>\n",
       "    </tr>\n",
       "    <tr>\n",
       "      <th>364</th>\n",
       "      <td>cell-94</td>\n",
       "      <td>20180807</td>\n",
       "      <td>2018/08/07</td>\n",
       "      <td>EPFU</td>\n",
       "      <td>2</td>\n",
       "    </tr>\n",
       "    <tr>\n",
       "      <th>365</th>\n",
       "      <td>cell-94</td>\n",
       "      <td>20180807</td>\n",
       "      <td>2018/08/07</td>\n",
       "      <td>LABO</td>\n",
       "      <td>6</td>\n",
       "    </tr>\n",
       "    <tr>\n",
       "      <th>366</th>\n",
       "      <td>cell-94</td>\n",
       "      <td>20180807</td>\n",
       "      <td>2018/08/07</td>\n",
       "      <td>LANO</td>\n",
       "      <td>1</td>\n",
       "    </tr>\n",
       "    <tr>\n",
       "      <th>367</th>\n",
       "      <td>cell-94</td>\n",
       "      <td>20180807</td>\n",
       "      <td>2018/08/07</td>\n",
       "      <td>NOID</td>\n",
       "      <td>22</td>\n",
       "    </tr>\n",
       "    <tr>\n",
       "      <th>368</th>\n",
       "      <td>cell-94</td>\n",
       "      <td>20180807</td>\n",
       "      <td>2018/08/07</td>\n",
       "      <td>NYHU</td>\n",
       "      <td>10</td>\n",
       "    </tr>\n",
       "    <tr>\n",
       "      <th>369</th>\n",
       "      <td>cell-94</td>\n",
       "      <td>20180807</td>\n",
       "      <td>2018/08/07</td>\n",
       "      <td>PESU</td>\n",
       "      <td>4</td>\n",
       "    </tr>\n",
       "  </tbody>\n",
       "</table>\n",
       "<p>370 rows × 5 columns</p>\n",
       "</div>"
      ],
      "text/plain": [
       "     Folder1   Folder2       Night Label  Number\n",
       "0     cell-0  20180610  2018/06/10  LABO       5\n",
       "1     cell-0  20180610  2018/06/10  LACI       2\n",
       "2     cell-0  20180610  2018/06/10  LANO       1\n",
       "3     cell-0  20180610  2018/06/10  NOID       4\n",
       "4     cell-0  20180610  2018/06/10  NYHU       1\n",
       "5     cell-0  20180610  2018/06/10  PESU       1\n",
       "6     cell-0  20180610  2018/06/10  TABR       4\n",
       "7     cell-0  20180616  2018/06/16  LABO       6\n",
       "8     cell-0  20180616  2018/06/16  NOID       5\n",
       "9     cell-0  20180616  2018/06/16  TABR       3\n",
       "..       ...       ...         ...   ...     ...\n",
       "360  cell-94  20180730  2018/07/30  LANO       1\n",
       "361  cell-94  20180730  2018/07/30  NOID      46\n",
       "362  cell-94  20180730  2018/07/30  NYHU       4\n",
       "363  cell-94  20180730  2018/07/30  PESU       8\n",
       "364  cell-94  20180807  2018/08/07  EPFU       2\n",
       "365  cell-94  20180807  2018/08/07  LABO       6\n",
       "366  cell-94  20180807  2018/08/07  LANO       1\n",
       "367  cell-94  20180807  2018/08/07  NOID      22\n",
       "368  cell-94  20180807  2018/08/07  NYHU      10\n",
       "369  cell-94  20180807  2018/08/07  PESU       4\n",
       "\n",
       "[370 rows x 5 columns]"
      ]
     },
     "execution_count": 40,
     "metadata": {},
     "output_type": "execute_result"
    }
   ],
   "source": [
    "data2018"
   ]
  },
  {
   "cell_type": "code",
   "execution_count": 29,
   "metadata": {
    "scrolled": true
   },
   "outputs": [
    {
     "data": {
      "text/plain": [
       "<bound method Series.unique of 0          LABO\n",
       "1          NOID\n",
       "2          NYHU\n",
       "3          PESU\n",
       "4          TABR\n",
       "5          LABO\n",
       "6          LACI\n",
       "7          LANO\n",
       "8          NOID\n",
       "9          NYHU\n",
       "         ...   \n",
       "388        PESU\n",
       "389        LABO\n",
       "390        LACI\n",
       "391        LANO\n",
       "392       MYSPP\n",
       "393        NOID\n",
       "394        NYHU\n",
       "395        PESU\n",
       "396    foraging\n",
       "397      social\n",
       "Name: Label, Length: 398, dtype: object>"
      ]
     },
     "execution_count": 29,
     "metadata": {},
     "output_type": "execute_result"
    }
   ],
   "source": [
    "data2015['Label'].unique"
   ]
  },
  {
   "cell_type": "code",
   "execution_count": 47,
   "metadata": {},
   "outputs": [],
   "source": [
    "def count_recordings(df, label=None):\n",
    "    \"\"\"\n",
    "     Given a data table and the label, return the counts in this table with certain label\n",
    "     label=None --- find the total recording counts\n",
    "     label=social --- find the recording count for files containing 'social' label\n",
    "     label=foraging --- find the recording count for files containing 'foraging' label\n",
    "     label=Feeding --- find the recording count for files containing 'Feeding' label\n",
    "     \n",
    "     \"\"\"\n",
    "    if label=='social':\n",
    "        count=df[df['Label'].str.contains('social')==True]['Number'].sum()\n",
    "    elif label=='foraging':\n",
    "        count=df[df['Label'].str.contains('foraging')==True]['Number'].sum()\n",
    "    elif label=='Feeding':\n",
    "        count=df[df['Label'].str.contains('Feeding')==True]['Number'].sum()\n",
    "    else:\n",
    "        count=df[df['Label'].str.contains('social|foraging|Feeding')==False]['Number'].sum()\n",
    "    \n",
    "    return count\n",
    "    "
   ]
  },
  {
   "cell_type": "code",
   "execution_count": 52,
   "metadata": {},
   "outputs": [
    {
     "data": {
      "text/plain": [
       "2527"
      ]
     },
     "execution_count": 52,
     "metadata": {},
     "output_type": "execute_result"
    }
   ],
   "source": [
    "count_recordings(data2015)"
   ]
  },
  {
   "cell_type": "code",
   "execution_count": 53,
   "metadata": {},
   "outputs": [
    {
     "data": {
      "text/plain": [
       "13"
      ]
     },
     "execution_count": 53,
     "metadata": {},
     "output_type": "execute_result"
    }
   ],
   "source": [
    "count_recordings(data2015,'social')"
   ]
  },
  {
   "cell_type": "code",
   "execution_count": 54,
   "metadata": {},
   "outputs": [
    {
     "data": {
      "text/plain": [
       "2527"
      ]
     },
     "execution_count": 54,
     "metadata": {},
     "output_type": "execute_result"
    }
   ],
   "source": [
    "subt2015=count_recordings(data2015)\n",
    "subt2016=count_recordings(data2016)\n",
    "subt2017=count_recordings(data2017)\n",
    "subt2018=count_recordings(data2018)\n",
    "subt2015"
   ]
  },
  {
   "cell_type": "code",
   "execution_count": 83,
   "metadata": {},
   "outputs": [
    {
     "data": {
      "text/plain": [
       "2209"
      ]
     },
     "execution_count": 83,
     "metadata": {},
     "output_type": "execute_result"
    }
   ],
   "source": [
    "subt2018"
   ]
  },
  {
   "cell_type": "code",
   "execution_count": 55,
   "metadata": {},
   "outputs": [
    {
     "data": {
      "text/plain": [
       "10626"
      ]
     },
     "execution_count": 55,
     "metadata": {},
     "output_type": "execute_result"
    }
   ],
   "source": [
    "#total sample size\n",
    "totalss=subt2015+subt2016+subt2017+subt2018\n",
    "totalss"
   ]
  },
  {
   "cell_type": "code",
   "execution_count": 57,
   "metadata": {},
   "outputs": [
    {
     "data": {
      "text/plain": [
       "29"
      ]
     },
     "execution_count": 57,
     "metadata": {},
     "output_type": "execute_result"
    }
   ],
   "source": [
    "totalsocial=count_recordings(data2015,'social')+count_recordings(data2016,'social')+count_recordings(data2017,'social')+count_recordings(data2018,'social')\n",
    "totalsocial"
   ]
  },
  {
   "cell_type": "code",
   "execution_count": 58,
   "metadata": {},
   "outputs": [
    {
     "data": {
      "text/plain": [
       "155"
      ]
     },
     "execution_count": 58,
     "metadata": {},
     "output_type": "execute_result"
    }
   ],
   "source": [
    "totalforaging=count_recordings(data2015,'foraging')+count_recordings(data2016,'foraging')+count_recordings(data2017,'foraging')+count_recordings(data2018,'foraging')\n",
    "totalforaging"
   ]
  },
  {
   "cell_type": "code",
   "execution_count": 59,
   "metadata": {},
   "outputs": [
    {
     "data": {
      "text/plain": [
       "12"
      ]
     },
     "execution_count": 59,
     "metadata": {},
     "output_type": "execute_result"
    }
   ],
   "source": [
    "totalfeeding=count_recordings(data2015,'Feeding')+count_recordings(data2016,'Feeding')+count_recordings(data2017,'Feeding')+count_recordings(data2018,'Feeding')\n",
    "totalfeeding"
   ]
  },
  {
   "cell_type": "code",
   "execution_count": 96,
   "metadata": {},
   "outputs": [
    {
     "data": {
      "image/png": "[encoded data removed]",
      "text/plain": [
       "<Figure size 432x288 with 1 Axes>"
      ]
     },
     "metadata": {},
     "output_type": "display_data"
    }
   ],
   "source": [
    "# Data to plot\n",
    "labels = 'social', 'foraging', 'Feeding', 'normal'\n",
    "sizes = [totalsocial, totalforaging, totalfeeding, totalss-totalsocial-totalforaging-totalfeeding]\n",
    "colors = ['gold', 'yellowgreen', 'lightcoral', 'lightskyblue']\n",
    "explode = (0.1, 0, 0, 0)  # explode 1st slice\n",
    " \n",
    "# Plot\n",
    "plt.pie(sizes, explode=explode, labels=labels, colors=colors,\n",
    "        autopct='%1.1f%%', shadow=True, startangle=140,rotatelabels=True,labeldistance=1.3)\n",
    " \n",
    "plt.axis('equal')\n",
    "plt.show()\n",
    "# social:0.3%  foraging:1.5%  Feeding:0.1%  normal:98.2% "
   ]
  }
 ],
 "metadata": {
  "kernelspec": {
   "display_name": "Python 2",
   "language": "python",
   "name": "python2"
  },
  "language_info": {
   "codemirror_mode": {
    "name": "ipython",
    "version": 2
   },
   "file_extension": ".py",
   "mimetype": "text/x-python",
   "name": "python",
   "nbconvert_exporter": "python",
   "pygments_lexer": "ipython2",
   "version": "2.7.15"
  }
 },
 "nbformat": 4,
 "nbformat_minor": 2
}
