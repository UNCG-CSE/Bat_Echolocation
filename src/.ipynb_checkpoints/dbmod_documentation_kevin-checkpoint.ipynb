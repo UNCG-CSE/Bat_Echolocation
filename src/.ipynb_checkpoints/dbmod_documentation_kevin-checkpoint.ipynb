{
 "cells": [
  {
   "cell_type": "markdown",
   "metadata": {},
   "source": [
    "# `dbMod_MySQL` Guide"
   ]
  },
  {
   "cell_type": "markdown",
   "metadata": {},
   "source": [
    "The Python module `dbmod_MySQL` has a set of functions that grant access to the database."
   ]
  },
  {
   "cell_type": "code",
   "execution_count": null,
   "metadata": {},
   "outputs": [],
   "source": [
    "from util.dbmod_MySQL import *"
   ]
  },
  {
   "cell_type": "markdown",
   "metadata": {},
   "source": [
    "Functions within the module:\n",
    "* `connect_to_db()`: Establishes a connection to the database with the credentials stated below. Returns a connection object that must be saved locally.\n",
    "    - host name: den1.mysql4.gear.host\n",
    "    - user name: batechodata\n",
    "    - password: batcalls-1\n",
    "    - database name: batechodata"
   ]
  },
  {
   "cell_type": "code",
   "execution_count": null,
   "metadata": {
    "scrolled": true
   },
   "outputs": [],
   "source": [
    "conn = connect_to_db()"
   ]
  },
  {
   "cell_type": "markdown",
   "metadata": {},
   "source": [
    "* `db_info(conn)`: With a connection object, it outputs the name of the current database being used and any tables it contains."
   ]
  },
  {
   "cell_type": "code",
   "execution_count": null,
   "metadata": {},
   "outputs": [],
   "source": [
    "db_info(conn)"
   ]
  },
  {
   "cell_type": "markdown",
   "metadata": {},
   "source": [
    "* `table_list(conn)`: With a connection object, it outputs the tables currently stored (in the current database)."
   ]
  },
  {
   "cell_type": "code",
   "execution_count": null,
   "metadata": {},
   "outputs": [],
   "source": [
    "table_list(conn)"
   ]
  },
  {
   "cell_type": "markdown",
   "metadata": {},
   "source": [
    "* `create_table_from_file_path(conn, file_path)`: With a connection object and a path to a file, identifies the file's extension and creates a table using the name of that file plus its extension; if necessary, it will replace any instances of the '.' character with '\\_'. It will immediately call the respective `insert_into_table_...` function associated with the identified file extension.\n",
    "    - `insert_into_table_csv(conn, table_name, file_path)`: With a connection object, it uses SQL's 'LOAD DATA INFILE LOCAL...' mechanism to directly insert the csv file from `file_path` into the associated table provided by `table_name`.\n",
    "    - `insert_into_table_png(conn, table_name, file_path)`: Used in conjunction with another Python module `png_processing` that imports the `skimage` module. With a connection object, it first obtains the locations of the blue pixels in the png file, as the individual x and y coordinates provided as two lists `x` and `y`. Then, using a loop, it inserts each value from `x` and `y` into the table specified by `table_name`.\n",
    "    - `insert_into_table_zc(conn, table_name, file_path)`: Uses Yang's `extract_anabat()` function to obtain the data from the zc/# file and, using a loop, inserts the data into the table specified by `table_name`."
   ]
  },
  {
   "cell_type": "markdown",
   "metadata": {},
   "source": [
    "NOTE: The operations involving the .zc and .png files will take a long time to finish. The .csv operation is much faster."
   ]
  },
  {
   "cell_type": "code",
   "execution_count": null,
   "metadata": {},
   "outputs": [],
   "source": [
    "fdir = '../data/outfun2/S7152113.44#.csv'\n",
    "create_table_from_file_path(conn, fdir)"
   ]
  },
  {
   "cell_type": "code",
   "execution_count": null,
   "metadata": {
    "scrolled": true
   },
   "outputs": [],
   "source": [
    "fdir = '../data/raw/2015/cell-0/20150717/P7172114.09#'\n",
    "create_table_from_file_path(conn, fdir)"
   ]
  },
  {
   "cell_type": "code",
   "execution_count": null,
   "metadata": {},
   "outputs": [],
   "source": [
    "fdir = '../data/pulses/56110632.20#_0.png'\n",
    "create_table_from_file_path(conn, fdir)"
   ]
  },
  {
   "cell_type": "markdown",
   "metadata": {},
   "source": [
    "* `drop_table(conn, table_name)`: With a connection object, deletes a table from the current database with the SQL statement \"`DROP TABLE table_name;`\" and outputs the current list of tables post-execution."
   ]
  },
  {
   "cell_type": "code",
   "execution_count": null,
   "metadata": {},
   "outputs": [],
   "source": [
    "drop_table(conn, 's7152113_csv')"
   ]
  },
  {
   "cell_type": "code",
   "execution_count": null,
   "metadata": {},
   "outputs": [],
   "source": [
    "drop_table(conn, 'p7172114_zc')"
   ]
  },
  {
   "cell_type": "code",
   "execution_count": null,
   "metadata": {},
   "outputs": [],
   "source": [
    "drop_table(conn, '56110632_20_0_png')"
   ]
  },
  {
   "cell_type": "markdown",
   "metadata": {},
   "source": [
    "* `select_from_table(conn, table_name)`: With a connection object, executes the SQL statement \"`SELECT * FROM table_name;`\" and outputs the contents of the table specified by `table_name`."
   ]
  },
  {
   "cell_type": "code",
   "execution_count": null,
   "metadata": {},
   "outputs": [],
   "source": [
    "out_csv = select_from_table(conn, 's7152113_csv')"
   ]
  },
  {
   "cell_type": "code",
   "execution_count": null,
   "metadata": {},
   "outputs": [],
   "source": [
    "out_zc = select_from_table(conn, 'p7172114_zc')"
   ]
  },
  {
   "cell_type": "code",
   "execution_count": null,
   "metadata": {},
   "outputs": [],
   "source": [
    "out_png = select_from_table(conn, '56110632_20_0_png')"
   ]
  }
 ],
 "metadata": {
  "kernelspec": {
   "display_name": "Python 3",
   "language": "python",
   "name": "python3"
  },
  "language_info": {
   "codemirror_mode": {
    "name": "ipython",
    "version": 3
   },
   "file_extension": ".py",
   "mimetype": "text/x-python",
   "name": "python",
   "nbconvert_exporter": "python",
   "pygments_lexer": "ipython3",
   "version": "3.7.1"
  }
 },
 "nbformat": 4,
 "nbformat_minor": 2
}
