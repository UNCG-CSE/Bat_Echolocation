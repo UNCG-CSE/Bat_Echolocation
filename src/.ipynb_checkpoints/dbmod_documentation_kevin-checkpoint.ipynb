{
 "cells": [
  {
   "cell_type": "markdown",
   "metadata": {},
   "source": [
    "# `dbMod_MySQL` Guide"
   ]
  },
  {
   "cell_type": "markdown",
   "metadata": {},
   "source": [
    "The Python module `dbmod_MySQL` has a set of functions that grant access to the database."
   ]
  },
  {
   "cell_type": "code",
   "execution_count": null,
   "metadata": {},
   "outputs": [],
   "source": [
    "from util.dbmod_MySQL import *"
   ]
  },
  {
   "cell_type": "markdown",
   "metadata": {},
   "source": [
    "Functions within the module:\n",
    "* `connect_to_db()`: Establishes a connection to the database with the credentials stated below. Returns a connection object that must be saved locally.\n",
    "    - host name: den1.mysql4.gear.host\n",
    "    - user name: batechodata\n",
    "    - password: batcalls-1\n",
    "    - database name: batechodata"
   ]
  },
  {
   "cell_type": "code",
   "execution_count": null,
   "metadata": {
    "scrolled": true
   },
   "outputs": [],
   "source": [
    "conn = connect_to_db()"
   ]
  },
  {
   "cell_type": "markdown",
   "metadata": {},
   "source": [
    "* `db_info(conn)`: With a connection object, it outputs the name of the current database being used and any tables it contains."
   ]
  },
  {
   "cell_type": "code",
   "execution_count": null,
   "metadata": {},
   "outputs": [],
   "source": [
    "db_info(conn)"
   ]
  },
  {
   "cell_type": "markdown",
   "metadata": {},
   "source": [
    "* `table_list(conn)`: With a connection object, it outputs the tables currently stored (in the current database)."
   ]
  },
  {
   "cell_type": "code",
   "execution_count": null,
   "metadata": {},
   "outputs": [],
   "source": [
    "table_list(conn)"
   ]
  },
  {
   "cell_type": "markdown",
   "metadata": {},
   "source": [
    "* `create_table_from_file_path(conn, file_path)`: With a connection object and a path to a file, identifies the file's extension and creates a table using the name of that file plus its extension; if necessary, it will replace any instances of the '.' character with '\\_'. It will immediately call the respective `insert_into_table_...` function associated with the identified file extension.\n",
    "    - `insert_into_table_csv(conn, table_name, file_path)`: With a connection object, it uses SQL's 'LOAD DATA INFILE LOCAL...' mechanism to directly insert the csv file from `file_path` into the associated table provided by `table_name`.\n",
    "    - `insert_into_table_png(conn, table_name, file_path)`: Used in conjunction with another Python module `png_processing` that imports the `skimage` module. With a connection object, it first obtains the locations of the blue pixels in the png file, as the individual x and y coordinates provided as two lists `x` and `y`. Then, using a loop, it inserts each value from `x` and `y` into the table specified by `table_name`.\n",
    "    - `insert_into_table_zc(conn, table_name, file_path)`: Uses Yang's `extract_anabat()` function to obtain the data from the zc/# file and, using a loop, inserts the data into the table specified by `table_name`."
   ]
  },
  {
   "cell_type": "markdown",
   "metadata": {},
   "source": [
    "NOTE: Processing a .zc file will take a while to finish."
   ]
  },
  {
   "cell_type": "code",
   "execution_count": 2,
   "metadata": {},
   "outputs": [
    {
     "name": "stdout",
     "output_type": "stream",
     "text": [
      "tables: ['auth_group', 'auth_group_permissions', 'auth_permission', 'auth_user', 'auth_user_groups', 'auth_user_user_permissions', 'cell_0_20150717$csv', 'django_admin_log', 'django_content_type', 'django_migrations', 'django_session', 'viz_abnormal', 'viz_echo', 'viz_noise']\n",
      "           filename      time     frequency  pulse\n",
      "0      P7172114.09#  0.170484  37037.037037      1\n",
      "1      P7172114.09#  0.170593  37383.177570      1\n",
      "2      P7172114.09#  0.170700  36697.247706      1\n",
      "3      P7172114.09#  0.170807  36529.680365      1\n",
      "4      P7172114.09#  0.170918  37383.177570      1\n",
      "5      P7172114.09#  0.171026  37209.302326      1\n",
      "6      P7172114.09#  0.171132  36529.680365      1\n",
      "7      P7172114.09#  0.171241  36529.680365      1\n",
      "8      P7172114.09#  0.171351  36697.247706      1\n",
      "9      P7172114.09#  0.171460  36529.680365      1\n",
      "10     P7172114.09#  0.171569  36697.247706      1\n",
      "11     P7172114.09#  0.171679  36529.680365      1\n",
      "12     P7172114.09#  0.171787  36036.036036      1\n",
      "13     P7172114.09#  0.171898  36199.095023      1\n",
      "14     P7172114.09#  0.172009  36529.680365      1\n",
      "15     P7172114.09#  0.172119  36363.636364      1\n",
      "16     P7172114.09#  0.172228  35874.439462      1\n",
      "17     P7172114.09#  0.172339  36199.095023      1\n",
      "18     P7172114.09#  0.172451  36529.680365      1\n",
      "19     P7172114.09#  0.172560  36199.095023      1\n",
      "20     P7172114.09#  0.172670  35555.555556      1\n",
      "21     P7172114.09#  0.172781  35714.285714      1\n",
      "22     P7172114.09#  0.172895  36363.636364      1\n",
      "23     P7172114.09#  0.173005  36036.036036      1\n",
      "24     P7172114.09#  0.173115  35555.555556      1\n",
      "25     P7172114.09#  0.173227  35714.285714      1\n",
      "26     P7172114.09#  0.173340  36036.036036      1\n",
      "27     P7172114.09#  0.173451  35874.439462      1\n",
      "28     P7172114.09#  0.173562  35555.555556      1\n",
      "29     P7172114.09#  0.173674  35714.285714      1\n",
      "...             ...       ...           ...    ...\n",
      "13474  P7172201.48#  2.327387  33333.333333      5\n",
      "13475  P7172201.48#  2.327507  33333.333333      5\n",
      "13476  P7172201.48#  2.327627  33333.333333      5\n",
      "13477  P7172201.48#  2.327747  33264.177040      5\n",
      "13478  P7172201.48#  2.327867  33195.020747      5\n",
      "13479  P7172201.48#  2.327988  33333.912047      5\n",
      "13480  P7172201.48#  2.328108  33472.803347      5\n",
      "13481  P7172201.48#  2.328227  33333.333333      5\n",
      "13482  P7172201.48#  2.328347  33057.851240      5\n",
      "13483  P7172201.48#  2.328467  33195.020747      5\n",
      "13484  P7172201.48#  2.328589  33472.803347      5\n",
      "13485  P7172201.48#  2.328708  33195.020747      5\n",
      "13486  P7172201.48#  2.328828  32921.810700      5\n",
      "13487  P7172201.48#  2.328949  33195.020747      5\n",
      "13488  P7172201.48#  2.329071  33472.803347      5\n",
      "13489  P7172201.48#  2.329190  33195.020747      5\n",
      "13490  P7172201.48#  2.329310  32786.885246      5\n",
      "13491  P7172201.48#  2.329431  32921.810700      5\n",
      "13492  P7172201.48#  2.329554  33333.333333      5\n",
      "13493  P7172201.48#  2.329674  32921.810700      5\n",
      "13494  P7172201.48#  2.329794  32921.810700      5\n",
      "13495  P7172201.48#  2.329917  33195.020747      5\n",
      "13496  P7172201.48#  2.330037  32921.810700      5\n",
      "13497  P7172201.48#  2.330158  32921.810700      5\n",
      "13498  P7172201.48#  2.330279  32921.810700      5\n",
      "13499  P7172201.48#  2.330401  32854.347973      5\n",
      "13500  P7172201.48#  2.330522  32786.885246      5\n",
      "13501  P7172201.48#  2.330645  32388.663968      5\n",
      "13502  P7172201.48#  2.330766  33057.851240      5\n",
      "13503  P7172201.48#  2.330892  33472.803347      5\n",
      "\n",
      "[13504 rows x 4 columns]\n"
     ]
    }
   ],
   "source": [
    "create_table_file_path(conn, '../data/cell-0_20150717.csv')"
   ]
  },
  {
   "cell_type": "code",
   "execution_count": null,
   "metadata": {},
   "outputs": [],
   "source": [
    "create_table_file_path(conn, '../data/raw/2015/cell-0/20150717/P7172114.09#')"
   ]
  },
  {
   "cell_type": "code",
   "execution_count": 3,
   "metadata": {
    "scrolled": false
   },
   "outputs": [
    {
     "name": "stdout",
     "output_type": "stream",
     "text": [
      "tables: ['auth_group', 'auth_group_permissions', 'auth_permission', 'auth_user', 'auth_user_groups', 'auth_user_user_permissions', 'cell_0_20150717$csv', 'django_admin_log', 'django_content_type', 'django_migrations', 'django_session', 'png_images', 'viz_abnormal', 'viz_echo', 'viz_noise']\n",
      "Image 56110632$20#_0$png has been inserted into png_images\n",
      "                 name                                              image\n",
      "0  56110632$20#_0$png  b'\\x89PNG\\r\\n\\x1a\\n\\x00\\x00\\x00\\rIHDR\\x00\\x00\\...\n"
     ]
    }
   ],
   "source": [
    "create_table_file_path(conn, '../data/pulses/56110632.20#_0.png')"
   ]
  },
  {
   "cell_type": "markdown",
   "metadata": {},
   "source": [
    "* `drop_table(conn, table_name)`: With a connection object, deletes a table from the current database with the SQL statement \"`DROP TABLE table_name;`\" and outputs the current list of tables post-execution."
   ]
  },
  {
   "cell_type": "code",
   "execution_count": null,
   "metadata": {},
   "outputs": [],
   "source": [
    "drop_table(conn, 'cell_0_20150717$csv')"
   ]
  },
  {
   "cell_type": "code",
   "execution_count": null,
   "metadata": {},
   "outputs": [],
   "source": [
    "drop_table(conn, 'P7172114$09zc')"
   ]
  },
  {
   "cell_type": "code",
   "execution_count": null,
   "metadata": {},
   "outputs": [],
   "source": [
    "drop_table(conn, 'png_images')"
   ]
  },
  {
   "cell_type": "markdown",
   "metadata": {},
   "source": [
    "* `select_from_table(conn, table_name)`: With a connection object, executes the SQL statement \"`SELECT * FROM table_name;`\" and outputs the contents of the table specified by `table_name`."
   ]
  },
  {
   "cell_type": "code",
   "execution_count": null,
   "metadata": {},
   "outputs": [],
   "source": [
    "select_from_table(conn, 'cell_0_20150717$csv')"
   ]
  },
  {
   "cell_type": "code",
   "execution_count": null,
   "metadata": {},
   "outputs": [],
   "source": [
    "select_from_table(conn, 'P7172114$09zc')"
   ]
  },
  {
   "cell_type": "code",
   "execution_count": null,
   "metadata": {},
   "outputs": [],
   "source": [
    "select_from_table(conn, 'png_images')"
   ]
  },
  {
   "cell_type": "markdown",
   "metadata": {},
   "source": [
    "Totally not test code below:"
   ]
  }
 ],
 "metadata": {
  "kernelspec": {
   "display_name": "Python 3",
   "language": "python",
   "name": "python3"
  },
  "language_info": {
   "codemirror_mode": {
    "name": "ipython",
    "version": 3
   },
   "file_extension": ".py",
   "mimetype": "text/x-python",
   "name": "python",
   "nbconvert_exporter": "python",
   "pygments_lexer": "ipython3",
   "version": "3.7.1"
  }
 },
 "nbformat": 4,
 "nbformat_minor": 2
}
