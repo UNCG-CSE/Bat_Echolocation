{
 "cells": [
  {
   "cell_type": "code",
   "execution_count": 235,
   "metadata": {
    "scrolled": false
   },
   "outputs": [
    {
     "data": {
      "text/html": [
       "<iframe id=\"igraph\" scrolling=\"no\" style=\"border:none;\" seamless=\"seamless\" src=\"https://plot.ly/~souhad/13.embed\" height=\"525px\" width=\"100%\"></iframe>"
      ],
      "text/plain": [
       "<plotly.tools.PlotlyDisplay object>"
      ]
     },
     "execution_count": 235,
     "metadata": {},
     "output_type": "execute_result"
    }
   ],
   "source": [
    "import csv, numpy\n",
    "import plotly.plotly as py\n",
    "import plotly.graph_objs as graphs\n",
    "from scipy import interpolate\n",
    "from scipy.signal import savgol_filter\n",
    "\n",
    "#Load file into 2d list\n",
    "with open('../data/P7132033_37.csv', 'r') as f:\n",
    "    reader = csv.reader(f)\n",
    "    next(reader)\n",
    "    zc_str = list(reader)\n",
    "\n",
    "#Remove NA values\n",
    "#zc_str[:] = [x for x in zc_str if not x[1] == 'NA']\n",
    "\n",
    "\n",
    "#Format zc_str to floats\n",
    "zc_noisy = [[float(point[0]), float(point[1])] for point in zc_str]\n",
    "\n",
    "#Remove cutoff values\n",
    "zc_noisy[:] = [x for x in zc_noisy if x[1] > 44000]\n",
    "\n",
    "#Get dy, dy2, and x\n",
    "prev_point = [0, 0]\n",
    "dy = list()\n",
    "dy2 = list()\n",
    "x_noisy = list()\n",
    "for point in zc_noisy:\n",
    "    dy.append(numpy.sqrt((point[0]-prev_point[0])**2 + (point[1]-prev_point[1])**2))\n",
    "    if not len(dy) == 1:\n",
    "        dy2.append(numpy.sqrt((point[0]-prev_point[0])**2 + (dy[-1]-dy[-2])**2))\n",
    "    x_noisy.append(point[0])\n",
    "    prev_point = point\n",
    "    \n",
    "#Define cutoff dy for ignoring noise\n",
    "cutoff = 1000\n",
    "\n",
    "#Smooth random spikes\n",
    "i = 2\n",
    "#while i < len(dy) - 1:\n",
    "    #if dy[i - 1] < cutoff and dy[i] > cutoff and dy[i + 1] < cutoff:\n",
    "        #dy[i] = 0\n",
    "    #i += 1\n",
    "            \n",
    "#ELIMINATE NOISE\n",
    "i = 0\n",
    "zc = list()\n",
    "while i < len(dy):\n",
    "    if dy[i] < cutoff:\n",
    "        zc.append(zc_noisy[i])\n",
    "    i += 1\n",
    "    \n",
    "#Define pulses\n",
    "i = 0\n",
    "pulses = list()\n",
    "while i < len(zc):\n",
    "    if dy[i] < cutoff:\n",
    "        pulses.append([zc[i][0], zc[i][1]])\n",
    "    i+=1\n",
    "    \n",
    "yhat2 = savgol_filter([point[1] for point in zc_noisy], 27, 2) # window size 51, polynomial order 3\n",
    "yhat3 = savgol_filter([point[1] for point in zc_noisy], 17, 3) # window size 51, polynomial order 3\n",
    "\n",
    "#Graph ZC data and dy data\n",
    "trace_noisy = graphs.Scatter(\n",
    "                                x = [point[0] for point in zc_noisy], \n",
    "                                y = [point[1] for point in zc_noisy],\n",
    "                                mode = 'markers',\n",
    "                                name = 'ZC- noisy'\n",
    "                            )\n",
    "trace_smooth = graphs.Scatter(\n",
    "                            x = [point[0] for point in zc_noisy], \n",
    "                            y = yhat2,\n",
    "                            name = 'ZC- clean'\n",
    "                         )\n",
    "trace_dy = graphs.Scatter(\n",
    "                            x = x_noisy, \n",
    "                            y = dy2, \n",
    "                            name = 'Derivative'\n",
    "                         )\n",
    "trace_pulses = graphs.Scatter(\n",
    "                                x = [point[0] for point in pulses], \n",
    "                                y = [point[1] for point in pulses], \n",
    "                                name = 'Pulses'\n",
    "                             )\n",
    "trace_cutoff = graphs.Scatter(\n",
    "                                x = [x_noisy[0], x_noisy[-1]], \n",
    "                                y = [cutoff, cutoff], \n",
    "                                name = 'Cutoff'\n",
    "                             )\n",
    "trace = [trace_noisy, trace_smooth, trace_dy, trace_cutoff]\n",
    "py.iplot(trace, filename='P7132033_37')"
   ]
  },
  {
   "cell_type": "code",
   "execution_count": null,
   "metadata": {},
   "outputs": [],
   "source": []
  }
 ],
 "metadata": {
  "kernelspec": {
   "display_name": "Python 3",
   "language": "python",
   "name": "python3"
  }
 },
 "nbformat": 4,
 "nbformat_minor": 2
}
