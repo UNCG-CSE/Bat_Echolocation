{
 "cells": [
  {
   "cell_type": "code",
   "execution_count": 289,
   "metadata": {
    "scrolled": false
   },
   "outputs": [
    {
     "data": {
      "text/html": [
       "<iframe id=\"igraph\" scrolling=\"no\" style=\"border:none;\" seamless=\"seamless\" src=\"https://plot.ly/~souhad/13.embed\" height=\"525px\" width=\"100%\"></iframe>"
      ],
      "text/plain": [
       "<plotly.tools.PlotlyDisplay object>"
      ]
     },
     "execution_count": 289,
     "metadata": {},
     "output_type": "execute_result"
    }
   ],
   "source": [
    "#Approach 1: Find derivative of graph, delete points with too high of a change in slope\n",
    "\n",
    "import csv, numpy\n",
    "import plotly.plotly as py\n",
    "import plotly.graph_objs as graphs\n",
    "from scipy import interpolate\n",
    "from scipy.signal import savgol_filter\n",
    "\n",
    "#Load file into 2d list\n",
    "with open('../data/P7132033_37.csv', 'r') as f:\n",
    "    reader = csv.reader(f)\n",
    "    next(reader)\n",
    "    zc_str = list(reader)\n",
    "\n",
    "#Format zc_str to floats and remove low frequency values\n",
    "zc_x = list()\n",
    "zc_y = list()\n",
    "for x, y in zc_str:\n",
    "    if float(y) > 44000:\n",
    "        zc_x.append(float(x))\n",
    "        zc_y.append(float(y))\n",
    "\n",
    "#Get dy, dy2, and x\n",
    "prev_y = 0\n",
    "dy = list()\n",
    "dy2 = list()\n",
    "for y in zc_y:\n",
    "    dy.append(abs(y-prev_y))\n",
    "    if not len(dy) == 1:\n",
    "        dy2.append(abs(dy[-1]-dy[-2]))\n",
    "    prev_y = y\n",
    "    \n",
    "#Define cutoff dy for ignoring noise\n",
    "cutoff = 700\n",
    "    \n",
    "#Smooth graph- Savitsky-Golay filter\n",
    "yhat2 = savgol_filter(zc_y, 27, 2)\n",
    "yhat3 = savgol_filter(zc_y, 17, 3)\n",
    "yhat4 = savgol_filter(zc_y, 17, 4) #best fit so far\n",
    "\n",
    "#ELIMINATE NOISE\n",
    "i = 0\n",
    "noiseless_x = list()\n",
    "noiseless_y = list()\n",
    "while i < len(dy2):\n",
    "    if dy2[i] < cutoff:\n",
    "        noiseless_x.append(zc_x[i])\n",
    "        noiseless_y.append(yhat4[i])\n",
    "    i += 1\n",
    "\n",
    "#Graph data\n",
    "trace_noisy = graphs.Scatter(\n",
    "                            x = zc_x, \n",
    "                            y = zc_y,\n",
    "                            mode = 'markers',\n",
    "                            name = 'ZC- noisy'\n",
    "                        )\n",
    "trace_smooth = graphs.Scatter(\n",
    "                            x = zc_x, \n",
    "                            y = yhat4,\n",
    "                            name = 'ZC- smoothed'\n",
    "                        )\n",
    "trace_noiseless = graphs.Scatter(\n",
    "                            x = noiseless_x, \n",
    "                            y = noiseless_y,\n",
    "                            mode = 'markers',\n",
    "                            name = 'ZC- noiseless'\n",
    "                         )\n",
    "trace_dy2 = graphs.Scatter(\n",
    "                            x = zc_x, \n",
    "                            y = dy2, \n",
    "                            name = 'Derivative- noisy'\n",
    "                         )\n",
    "trace_cutoff = graphs.Scatter(\n",
    "                            x = [zc_x[0], zc_x[-1]], \n",
    "                            y = [cutoff, cutoff], \n",
    "                            name = 'Cutoff'\n",
    "                         )\n",
    "trace = [trace_noisy, trace_smooth, trace_noiseless, trace_cutoff, trace_dy2]\n",
    "py.iplot(trace, filename='P7132033_37')"
   ]
  },
  {
   "cell_type": "code",
   "execution_count": 287,
   "metadata": {},
   "outputs": [],
   "source": [
    "import csv, numpy\n",
    "import plotly.plotly as py\n",
    "import plotly.graph_objs as graphs\n",
    "from scipy import interpolate\n",
    "from scipy.signal import savgol_filter\n",
    "\n",
    "#Load file into 2d list\n",
    "with open('../data/P7132033_37.csv', 'r') as f:\n",
    "    reader = csv.reader(f)\n",
    "    next(reader)\n",
    "    zc_str = list(reader)\n",
    "\n",
    "#Format zc_str to floats\n",
    "zc_noisy = [[float(point[0]), float(point[1])] for point in zc_str]\n",
    "\n",
    "#Remove cutoff values\n",
    "zc_noisy[:] = [x for x in zc_noisy if x[1] > 44000]"
   ]
  },
  {
   "cell_type": "code",
   "execution_count": null,
   "metadata": {},
   "outputs": [],
   "source": []
  }
 ],
 "metadata": {
  "kernelspec": {
   "display_name": "Python 3",
   "language": "python",
   "name": "python3"
  }
 },
 "nbformat": 4,
 "nbformat_minor": 2
}
