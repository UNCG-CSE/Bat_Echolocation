{
 "cells": [
  {
   "cell_type": "markdown",
   "metadata": {},
   "source": [
    "This code will implement PostgreSQL and its database servers."
   ]
  },
  {
   "cell_type": "code",
   "execution_count": 1,
   "metadata": {},
   "outputs": [
    {
     "name": "stdout",
     "output_type": "stream",
     "text": [
      "Requirement already satisfied: psycopg2 in c:\\anaconda3\\lib\\site-packages (2.7.5)\n",
      "Requirement already satisfied: guano in c:\\anaconda3\\lib\\site-packages (1.0.12)\n"
     ]
    }
   ],
   "source": [
    "!pip install psycopg2\n",
    "!pip install guano"
   ]
  },
  {
   "cell_type": "code",
   "execution_count": 14,
   "metadata": {},
   "outputs": [
    {
     "name": "stderr",
     "output_type": "stream",
     "text": [
      "Invalid requirement: 'Stuff\\CSC505\\Group'\n",
      "It looks like a path. File 'Stuff\\CSC505\\Group' does not exist.\n"
     ]
    }
   ],
   "source": [
    "!pip install -r requirements.txt"
   ]
  },
  {
   "cell_type": "code",
   "execution_count": 5,
   "metadata": {},
   "outputs": [],
   "source": [
    "import psycopg2 as p\n",
    "from util.bat import *\n",
    "import csv"
   ]
  },
  {
   "cell_type": "code",
   "execution_count": 6,
   "metadata": {},
   "outputs": [],
   "source": [
    "# connect using psycopg2\n",
    "conn = p.connect(\"dbname=Bat-Echolocation-Data user=postgres password=BatCalls-1 host=localhost\")\n",
    "c = conn.cursor()"
   ]
  },
  {
   "cell_type": "code",
   "execution_count": 8,
   "metadata": {},
   "outputs": [
    {
     "ename": "TypeError",
     "evalue": "a bytes-like object is required, not 'str'",
     "output_type": "error",
     "traceback": [
      "\u001b[1;31m---------------------------------------------------------------------------\u001b[0m",
      "\u001b[1;31mTypeError\u001b[0m                                 Traceback (most recent call last)",
      "\u001b[1;32m<ipython-input-8-02b9ba2c5f0a>\u001b[0m in \u001b[0;36m<module>\u001b[1;34m()\u001b[0m\n\u001b[1;32m----> 1\u001b[1;33m \u001b[0mextract_anabat\u001b[0m\u001b[1;33m(\u001b[0m\u001b[1;34mrb'../data/P7132033.37#'\u001b[0m\u001b[1;33m)\u001b[0m\u001b[1;33m\u001b[0m\u001b[0m\n\u001b[0m",
      "\u001b[1;32m~\\Desktop\\Uni Stuff\\CSC505\\Group Project Repo\\Bat_Echolocation\\src\\util\\bat.py\u001b[0m in \u001b[0;36mextract_anabat\u001b[1;34m(fdir, hpfilter_khz, **kwargs)\u001b[0m\n\u001b[0;32m     65\u001b[0m         \u001b[0mdata_info_pointer\u001b[0m\u001b[1;33m,\u001b[0m \u001b[0mfile_type\u001b[0m\u001b[1;33m,\u001b[0m \u001b[0mtape\u001b[0m\u001b[1;33m,\u001b[0m \u001b[0mdate\u001b[0m\u001b[1;33m,\u001b[0m \u001b[0mloc\u001b[0m\u001b[1;33m,\u001b[0m \u001b[0mspecies\u001b[0m\u001b[1;33m,\u001b[0m \u001b[0mspec\u001b[0m\u001b[1;33m,\u001b[0m \u001b[0mnote1\u001b[0m\u001b[1;33m,\u001b[0m \u001b[0mnote2\u001b[0m \u001b[1;33m=\u001b[0m \u001b[0mstruct\u001b[0m\u001b[1;33m.\u001b[0m\u001b[0munpack_from\u001b[0m\u001b[1;33m(\u001b[0m\u001b[0mANABAT_129_HEAD_FMT\u001b[0m\u001b[1;33m,\u001b[0m \u001b[0mm\u001b[0m\u001b[1;33m)\u001b[0m\u001b[1;33m\u001b[0m\u001b[0m\n\u001b[0;32m     66\u001b[0m         \u001b[0mdata_pointer\u001b[0m\u001b[1;33m,\u001b[0m \u001b[0mres1\u001b[0m\u001b[1;33m,\u001b[0m \u001b[0mdivratio\u001b[0m\u001b[1;33m,\u001b[0m \u001b[0mvres\u001b[0m \u001b[1;33m=\u001b[0m \u001b[0mstruct\u001b[0m\u001b[1;33m.\u001b[0m\u001b[0munpack_from\u001b[0m\u001b[1;33m(\u001b[0m\u001b[0mANABAT_129_DATA_INFO_FMT\u001b[0m\u001b[1;33m,\u001b[0m \u001b[0mm\u001b[0m\u001b[1;33m,\u001b[0m \u001b[0mdata_info_pointer\u001b[0m\u001b[1;33m)\u001b[0m\u001b[1;33m\u001b[0m\u001b[0m\n\u001b[1;32m---> 67\u001b[1;33m         \u001b[0mspecies\u001b[0m \u001b[1;33m=\u001b[0m \u001b[1;33m[\u001b[0m\u001b[0m_s\u001b[0m\u001b[1;33m(\u001b[0m\u001b[0mspecies\u001b[0m\u001b[1;33m)\u001b[0m\u001b[1;33m.\u001b[0m\u001b[0msplit\u001b[0m\u001b[1;33m(\u001b[0m\u001b[1;34m'('\u001b[0m\u001b[1;33m,\u001b[0m \u001b[1;36m1\u001b[0m\u001b[1;33m)\u001b[0m\u001b[1;33m[\u001b[0m\u001b[1;36m0\u001b[0m\u001b[1;33m]\u001b[0m\u001b[1;33m]\u001b[0m \u001b[1;32mif\u001b[0m \u001b[1;34m'('\u001b[0m \u001b[1;32min\u001b[0m \u001b[0mspecies\u001b[0m \u001b[1;32melse\u001b[0m \u001b[1;33m[\u001b[0m\u001b[0ms\u001b[0m\u001b[1;33m.\u001b[0m\u001b[0mstrip\u001b[0m\u001b[1;33m(\u001b[0m\u001b[1;33m)\u001b[0m \u001b[1;32mfor\u001b[0m \u001b[0ms\u001b[0m \u001b[1;32min\u001b[0m \u001b[0m_s\u001b[0m\u001b[1;33m(\u001b[0m\u001b[0mspecies\u001b[0m\u001b[1;33m)\u001b[0m\u001b[1;33m.\u001b[0m\u001b[0msplit\u001b[0m\u001b[1;33m(\u001b[0m\u001b[1;34m','\u001b[0m\u001b[1;33m)\u001b[0m\u001b[1;33m]\u001b[0m  \u001b[1;31m# remove KPro junk\u001b[0m\u001b[1;33m\u001b[0m\u001b[0m\n\u001b[0m\u001b[0;32m     68\u001b[0m         \u001b[0mmetadata\u001b[0m \u001b[1;33m=\u001b[0m \u001b[0mdict\u001b[0m\u001b[1;33m(\u001b[0m\u001b[0mdate\u001b[0m\u001b[1;33m=\u001b[0m\u001b[0mdate\u001b[0m\u001b[1;33m,\u001b[0m \u001b[0mloc\u001b[0m\u001b[1;33m=\u001b[0m\u001b[0m_s\u001b[0m\u001b[1;33m(\u001b[0m\u001b[0mloc\u001b[0m\u001b[1;33m)\u001b[0m\u001b[1;33m,\u001b[0m \u001b[0mspecies\u001b[0m\u001b[1;33m=\u001b[0m\u001b[0mspecies\u001b[0m\u001b[1;33m,\u001b[0m \u001b[0mspec\u001b[0m\u001b[1;33m=\u001b[0m\u001b[0m_s\u001b[0m\u001b[1;33m(\u001b[0m\u001b[0mspec\u001b[0m\u001b[1;33m)\u001b[0m\u001b[1;33m,\u001b[0m \u001b[0mnote1\u001b[0m\u001b[1;33m=\u001b[0m\u001b[0m_s\u001b[0m\u001b[1;33m(\u001b[0m\u001b[0mnote1\u001b[0m\u001b[1;33m)\u001b[0m\u001b[1;33m,\u001b[0m \u001b[0mnote2\u001b[0m\u001b[1;33m=\u001b[0m\u001b[0m_s\u001b[0m\u001b[1;33m(\u001b[0m\u001b[0mnote2\u001b[0m\u001b[1;33m)\u001b[0m\u001b[1;33m,\u001b[0m \u001b[0mdivratio\u001b[0m\u001b[1;33m=\u001b[0m\u001b[0mdivratio\u001b[0m\u001b[1;33m)\u001b[0m\u001b[1;33m\u001b[0m\u001b[0m\n\u001b[0;32m     69\u001b[0m         \u001b[1;32mif\u001b[0m \u001b[0mfile_type\u001b[0m \u001b[1;33m>=\u001b[0m \u001b[1;36m132\u001b[0m\u001b[1;33m:\u001b[0m\u001b[1;33m\u001b[0m\u001b[0m\n",
      "\u001b[1;31mTypeError\u001b[0m: a bytes-like object is required, not 'str'"
     ]
    }
   ],
   "source": [
    "extract_anabat(rb'../data/P7132033.37#')"
   ]
  },
  {
   "cell_type": "code",
   "execution_count": null,
   "metadata": {},
   "outputs": [],
   "source": [
    "# store a file name \n",
    "# eventually file name will be obtained from preprocessed data\n",
    "file_name = 'P7132038_32'\n",
    "\n",
    "reader = csv.reader(open(file_name + '.csv'))\n",
    "\n",
    "# skip over first-row labels\n",
    "next(reader)"
   ]
  },
  {
   "cell_type": "code",
   "execution_count": null,
   "metadata": {},
   "outputs": [],
   "source": [
    "def create_table(name,r):\n",
    "    with conn:\n",
    "        c.execute(f'CREATE TABLE {name} (time REAL, frequency REAL)')\n",
    "        c.execute(f'CREATE TABLE {name} (time REAL, frequency REAL)')\n",
    "\n",
    "def show_table(name):\n",
    "    c.execute(\"SELECT * FROM \" + name)\n",
    "    return c.fetchall()\n",
    "            \n",
    "def get_no_of_rows(name):\n",
    "    c.execute(\"SELECT COUNT(*) FROM \" + name)\n",
    "    return c.fetchone()[0]\n",
    "\n",
    "def delete_point(name, x, y):\n",
    "    with conn:\n",
    "        c.execute(\"DELETE FROM \" + name + \" WHERE time = :x AND frequency = :y\", {'x': x, 'y': y})"
   ]
  },
  {
   "cell_type": "code",
   "execution_count": null,
   "metadata": {},
   "outputs": [],
   "source": [
    "conn.close()"
   ]
  },
  {
   "cell_type": "code",
   "execution_count": null,
   "metadata": {},
   "outputs": [],
   "source": []
  }
 ],
 "metadata": {
  "kernelspec": {
   "display_name": "Python 3",
   "language": "python",
   "name": "python3"
  },
  "language_info": {
   "codemirror_mode": {
    "name": "ipython",
    "version": 3
   },
   "file_extension": ".py",
   "mimetype": "text/x-python",
   "name": "python",
   "nbconvert_exporter": "python",
   "pygments_lexer": "ipython3",
   "version": "3.6.5"
  }
 },
 "nbformat": 4,
 "nbformat_minor": 2
}
