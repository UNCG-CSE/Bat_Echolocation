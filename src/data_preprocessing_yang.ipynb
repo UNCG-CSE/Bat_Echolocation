{
 "cells": [
  {
   "cell_type": "markdown",
   "metadata": {},
   "source": [
    "# Import data methods:\n",
    "1. Reading zero-crossing file and extract time, frequency, amplitude and metadata information.(preferred)"
   ]
  },
  {
   "cell_type": "code",
   "execution_count": 1,
   "metadata": {},
   "outputs": [],
   "source": [
    "%matplotlib inline\n",
    "import matplotlib.pyplot as plt\n",
    "import numpy as np\n",
    "from util.bat import *\n",
    "import random\n",
    "import os\n",
    "import pandas as pd\n",
    "\n",
    "# Set some Pandas options\n",
    "pd.set_option('notebook_repr_html', True)\n",
    "pd.set_option('max_columns', 30)\n",
    "pd.set_option('max_rows', 20)"
   ]
  },
  {
   "cell_type": "code",
   "execution_count": 2,
   "metadata": {},
   "outputs": [
    {
     "ename": "TypeError",
     "evalue": "a bytes-like object is required, not 'str'",
     "output_type": "error",
     "traceback": [
      "\u001b[1;31m---------------------------------------------------------------------------\u001b[0m",
      "\u001b[1;31mTypeError\u001b[0m                                 Traceback (most recent call last)",
      "\u001b[1;32m<ipython-input-2-1a6a92312e6e>\u001b[0m in \u001b[0;36m<module>\u001b[1;34m()\u001b[0m\n\u001b[0;32m      1\u001b[0m \u001b[1;31m# Call extract_anabat from util.anabat to extract time, frequency, amplitude and partial metadata from zero-crossing file\u001b[0m\u001b[1;33m\u001b[0m\u001b[1;33m\u001b[0m\u001b[0m\n\u001b[1;32m----> 2\u001b[1;33m \u001b[0minfo\u001b[0m\u001b[1;33m=\u001b[0m\u001b[0mextract_anabat\u001b[0m\u001b[1;33m(\u001b[0m\u001b[1;34m'../data/P7132033.37#'\u001b[0m\u001b[1;33m)\u001b[0m  \u001b[1;31m# P7132035.14#  P7132033.37#  ../data/social/S8072135.07#\u001b[0m\u001b[1;33m\u001b[0m\u001b[0m\n\u001b[0m\u001b[0;32m      3\u001b[0m \u001b[0minfo2\u001b[0m\u001b[1;33m=\u001b[0m\u001b[0mextract_anabat\u001b[0m\u001b[1;33m(\u001b[0m\u001b[1;34m'../data/social/S8072135.07#'\u001b[0m\u001b[1;33m)\u001b[0m\u001b[1;33m\u001b[0m\u001b[0m\n",
      "\u001b[1;32m~\\Desktop\\Uni Stuff\\CSC505\\Group Project Repo\\Bat_Echolocation\\src\\util\\bat.py\u001b[0m in \u001b[0;36mextract_anabat\u001b[1;34m(fdir, hpfilter_khz, **kwargs)\u001b[0m\n\u001b[0;32m     65\u001b[0m         \u001b[0mdata_info_pointer\u001b[0m\u001b[1;33m,\u001b[0m \u001b[0mfile_type\u001b[0m\u001b[1;33m,\u001b[0m \u001b[0mtape\u001b[0m\u001b[1;33m,\u001b[0m \u001b[0mdate\u001b[0m\u001b[1;33m,\u001b[0m \u001b[0mloc\u001b[0m\u001b[1;33m,\u001b[0m \u001b[0mspecies\u001b[0m\u001b[1;33m,\u001b[0m \u001b[0mspec\u001b[0m\u001b[1;33m,\u001b[0m \u001b[0mnote1\u001b[0m\u001b[1;33m,\u001b[0m \u001b[0mnote2\u001b[0m \u001b[1;33m=\u001b[0m \u001b[0mstruct\u001b[0m\u001b[1;33m.\u001b[0m\u001b[0munpack_from\u001b[0m\u001b[1;33m(\u001b[0m\u001b[0mANABAT_129_HEAD_FMT\u001b[0m\u001b[1;33m,\u001b[0m \u001b[0mm\u001b[0m\u001b[1;33m)\u001b[0m\u001b[1;33m\u001b[0m\u001b[0m\n\u001b[0;32m     66\u001b[0m         \u001b[0mdata_pointer\u001b[0m\u001b[1;33m,\u001b[0m \u001b[0mres1\u001b[0m\u001b[1;33m,\u001b[0m \u001b[0mdivratio\u001b[0m\u001b[1;33m,\u001b[0m \u001b[0mvres\u001b[0m \u001b[1;33m=\u001b[0m \u001b[0mstruct\u001b[0m\u001b[1;33m.\u001b[0m\u001b[0munpack_from\u001b[0m\u001b[1;33m(\u001b[0m\u001b[0mANABAT_129_DATA_INFO_FMT\u001b[0m\u001b[1;33m,\u001b[0m \u001b[0mm\u001b[0m\u001b[1;33m,\u001b[0m \u001b[0mdata_info_pointer\u001b[0m\u001b[1;33m)\u001b[0m\u001b[1;33m\u001b[0m\u001b[0m\n\u001b[1;32m---> 67\u001b[1;33m         \u001b[0mspecies\u001b[0m \u001b[1;33m=\u001b[0m \u001b[1;33m[\u001b[0m\u001b[0m_s\u001b[0m\u001b[1;33m(\u001b[0m\u001b[0mspecies\u001b[0m\u001b[1;33m)\u001b[0m\u001b[1;33m.\u001b[0m\u001b[0msplit\u001b[0m\u001b[1;33m(\u001b[0m\u001b[1;34m'('\u001b[0m\u001b[1;33m,\u001b[0m \u001b[1;36m1\u001b[0m\u001b[1;33m)\u001b[0m\u001b[1;33m[\u001b[0m\u001b[1;36m0\u001b[0m\u001b[1;33m]\u001b[0m\u001b[1;33m]\u001b[0m \u001b[1;32mif\u001b[0m \u001b[1;34m'('\u001b[0m \u001b[1;32min\u001b[0m \u001b[0mspecies\u001b[0m \u001b[1;32melse\u001b[0m \u001b[1;33m[\u001b[0m\u001b[0ms\u001b[0m\u001b[1;33m.\u001b[0m\u001b[0mstrip\u001b[0m\u001b[1;33m(\u001b[0m\u001b[1;33m)\u001b[0m \u001b[1;32mfor\u001b[0m \u001b[0ms\u001b[0m \u001b[1;32min\u001b[0m \u001b[0m_s\u001b[0m\u001b[1;33m(\u001b[0m\u001b[0mspecies\u001b[0m\u001b[1;33m)\u001b[0m\u001b[1;33m.\u001b[0m\u001b[0msplit\u001b[0m\u001b[1;33m(\u001b[0m\u001b[1;34m','\u001b[0m\u001b[1;33m)\u001b[0m\u001b[1;33m]\u001b[0m  \u001b[1;31m# remove KPro junk\u001b[0m\u001b[1;33m\u001b[0m\u001b[0m\n\u001b[0m\u001b[0;32m     68\u001b[0m         \u001b[0mmetadata\u001b[0m \u001b[1;33m=\u001b[0m \u001b[0mdict\u001b[0m\u001b[1;33m(\u001b[0m\u001b[0mdate\u001b[0m\u001b[1;33m=\u001b[0m\u001b[0mdate\u001b[0m\u001b[1;33m,\u001b[0m \u001b[0mloc\u001b[0m\u001b[1;33m=\u001b[0m\u001b[0m_s\u001b[0m\u001b[1;33m(\u001b[0m\u001b[0mloc\u001b[0m\u001b[1;33m)\u001b[0m\u001b[1;33m,\u001b[0m \u001b[0mspecies\u001b[0m\u001b[1;33m=\u001b[0m\u001b[0mspecies\u001b[0m\u001b[1;33m,\u001b[0m \u001b[0mspec\u001b[0m\u001b[1;33m=\u001b[0m\u001b[0m_s\u001b[0m\u001b[1;33m(\u001b[0m\u001b[0mspec\u001b[0m\u001b[1;33m)\u001b[0m\u001b[1;33m,\u001b[0m \u001b[0mnote1\u001b[0m\u001b[1;33m=\u001b[0m\u001b[0m_s\u001b[0m\u001b[1;33m(\u001b[0m\u001b[0mnote1\u001b[0m\u001b[1;33m)\u001b[0m\u001b[1;33m,\u001b[0m \u001b[0mnote2\u001b[0m\u001b[1;33m=\u001b[0m\u001b[0m_s\u001b[0m\u001b[1;33m(\u001b[0m\u001b[0mnote2\u001b[0m\u001b[1;33m)\u001b[0m\u001b[1;33m,\u001b[0m \u001b[0mdivratio\u001b[0m\u001b[1;33m=\u001b[0m\u001b[0mdivratio\u001b[0m\u001b[1;33m)\u001b[0m\u001b[1;33m\u001b[0m\u001b[0m\n\u001b[0;32m     69\u001b[0m         \u001b[1;32mif\u001b[0m \u001b[0mfile_type\u001b[0m \u001b[1;33m>=\u001b[0m \u001b[1;36m132\u001b[0m\u001b[1;33m:\u001b[0m\u001b[1;33m\u001b[0m\u001b[0m\n",
      "\u001b[1;31mTypeError\u001b[0m: a bytes-like object is required, not 'str'"
     ]
    }
   ],
   "source": [
    "# Call extract_anabat from util.anabat to extract time, frequency, amplitude and partial metadata from zero-crossing file\n",
    "info=extract_anabat('../data/P7132033.37#')  # P7132035.14#  P7132033.37#  ../data/social/S8072135.07#\n",
    "info2=extract_anabat('../data/social/S8072135.07#') "
   ]
  },
  {
   "cell_type": "code",
   "execution_count": null,
   "metadata": {},
   "outputs": [],
   "source": [
    "t=info[0]\n",
    "freq=info[1]\n",
    "ampl=info[2]\n",
    "metadata=info[3]"
   ]
  },
  {
   "cell_type": "code",
   "execution_count": null,
   "metadata": {},
   "outputs": [],
   "source": [
    "metadata"
   ]
  },
  {
   "cell_type": "code",
   "execution_count": null,
   "metadata": {},
   "outputs": [],
   "source": [
    "t[-1]-t[0]"
   ]
  },
  {
   "cell_type": "code",
   "execution_count": null,
   "metadata": {},
   "outputs": [],
   "source": [
    "#visualization\n",
    "plt.figure(figsize=(12,3))\n",
    "plt.scatter(t, freq, s=2)\n",
    "plt.xticks(np.arange(1, 1.6, 0.05))\n",
    "plt.xlim(1, 1.5)\n",
    "plt.title(\"scatter\")\n",
    "plt.grid()"
   ]
  },
  {
   "cell_type": "markdown",
   "metadata": {},
   "source": [
    "2.Read from .csv files of time and freq that decoded using R."
   ]
  },
  {
   "cell_type": "code",
   "execution_count": null,
   "metadata": {},
   "outputs": [],
   "source": [
    "# Read time and frequency data from a csv sample data file. \n",
    "# The data in csv file is processed using R from Bat acoustic recording (zero-crossing file) encoded by Anabat file format 132.(AnabatTools.R--see R codes for details)\n",
    "import csv\n",
    "\n",
    "call_list = list(csv.reader(open('../data/P7132033_37.csv', 'rb')))[1:]\n",
    "#print call_list"
   ]
  },
  {
   "cell_type": "markdown",
   "metadata": {},
   "source": [
    "# Remove noise and extract valid pulse signals \n",
    "\n",
    "1. Call remove_noise function from util.anabat to remove the noises of original zc file.\n",
    "2. Get the returned valid pulses.\n",
    "3. Use display_pulses method from util.anabat to plot a few random sample of the valid pulses."
   ]
  },
  {
   "cell_type": "code",
   "execution_count": null,
   "metadata": {},
   "outputs": [],
   "source": [
    "# remove noise \n",
    "pulses=remove_noise(t,freq)"
   ]
  },
  {
   "cell_type": "code",
   "execution_count": null,
   "metadata": {},
   "outputs": [],
   "source": [
    "# length of pulses in a given zc file\n",
    "num = len(pulses)\n",
    "num "
   ]
  },
  {
   "cell_type": "code",
   "execution_count": null,
   "metadata": {},
   "outputs": [],
   "source": [
    "# plot random pulses sample\n",
    "display_pulses(pulses, nrows=4, ncols=4, figsize=(10,8))"
   ]
  },
  {
   "cell_type": "markdown",
   "metadata": {},
   "source": [
    "# Search abnormal labeled data files in a folder\n",
    "\n",
    "Call get_labeled_file util method in anabat module."
   ]
  },
  {
   "cell_type": "code",
   "execution_count": null,
   "metadata": {
    "scrolled": true
   },
   "outputs": [],
   "source": [
    "# Example of find bat acoustic files contains social call (have \"social\" label in metadata)\n",
    "datadir='D:\\\\dropbox_backup\\\\acoustic social auto id\\\\bat recordings\\\\transects\\\\2018\\\\cell-75\\\\20180715\\\\'\n",
    "label='social'\n",
    "get_labeled_file(datadir,label)"
   ]
  },
  {
   "cell_type": "markdown",
   "metadata": {},
   "source": [
    "# Descriptive Analysis\n",
    "\n",
    "15kHz-120kHz\n",
    "\n",
    "5% of social calls."
   ]
  },
  {
   "cell_type": "code",
   "execution_count": null,
   "metadata": {},
   "outputs": [],
   "source": [
    "data2015 = pd.read_csv('../data/2015_night.txt', sep=\"\\t\")\n",
    "data2016 = pd.read_csv('../data/2016_night.txt', sep=\"\\t\")\n",
    "data2017 = pd.read_csv('../data/2017_night.txt', sep=\"\\t\")\n",
    "data2018 = pd.read_csv('../data/2018_night.txt', sep=\"\\t\")"
   ]
  },
  {
   "cell_type": "code",
   "execution_count": null,
   "metadata": {},
   "outputs": [],
   "source": [
    "data2018[10:30]"
   ]
  },
  {
   "cell_type": "code",
   "execution_count": null,
   "metadata": {
    "scrolled": true
   },
   "outputs": [],
   "source": [
    "data2015['Label'].unique"
   ]
  },
  {
   "cell_type": "code",
   "execution_count": null,
   "metadata": {},
   "outputs": [],
   "source": [
    "def count_recordings(df, label=None):\n",
    "    \"\"\"\n",
    "     Given a data table and the label, return the counts in this table with certain label\n",
    "     label=None --- find the total recording counts\n",
    "     label=social --- find the recording count for files containing 'social' label\n",
    "     label=foraging --- find the recording count for files containing 'foraging' label\n",
    "     label=Feeding --- find the recording count for files containing 'Feeding' label\n",
    "     \n",
    "     \"\"\"\n",
    "    if label=='social':\n",
    "        count=df[df['Label'].str.contains('social')==True]['Number'].sum()\n",
    "    elif label=='foraging':\n",
    "        count=df[df['Label'].str.contains('foraging')==True]['Number'].sum()\n",
    "    elif label=='Feeding':\n",
    "        count=df[df['Label'].str.contains('Feeding')==True]['Number'].sum()\n",
    "    else:\n",
    "        count=df[df['Label'].str.contains('social|foraging|Feeding')==False]['Number'].sum()\n",
    "    \n",
    "    return count\n",
    "    "
   ]
  },
  {
   "cell_type": "code",
   "execution_count": null,
   "metadata": {},
   "outputs": [],
   "source": [
    "# how many bat recordings in 2015\n",
    "count_recordings(data2015)"
   ]
  },
  {
   "cell_type": "code",
   "execution_count": null,
   "metadata": {},
   "outputs": [],
   "source": [
    "# how many social labeled recording in 2015\n",
    "count_recordings(data2015,'social')"
   ]
  },
  {
   "cell_type": "code",
   "execution_count": null,
   "metadata": {},
   "outputs": [],
   "source": [
    "subt2015=count_recordings(data2015)\n",
    "subt2016=count_recordings(data2016)\n",
    "subt2017=count_recordings(data2017)\n",
    "subt2018=count_recordings(data2018)\n",
    "#total sample size\n",
    "totalss=subt2015+subt2016+subt2017+subt2018\n",
    "totalss"
   ]
  },
  {
   "cell_type": "code",
   "execution_count": null,
   "metadata": {},
   "outputs": [],
   "source": [
    "totalsocial=count_recordings(data2015,'social')+count_recordings(data2016,'social')+count_recordings(data2017,'social')+count_recordings(data2018,'social')\n",
    "totalsocial"
   ]
  },
  {
   "cell_type": "code",
   "execution_count": null,
   "metadata": {},
   "outputs": [],
   "source": [
    "totalforaging=count_recordings(data2015,'foraging')+count_recordings(data2016,'foraging')+count_recordings(data2017,'foraging')+count_recordings(data2018,'foraging')\n",
    "totalforaging"
   ]
  },
  {
   "cell_type": "code",
   "execution_count": null,
   "metadata": {},
   "outputs": [],
   "source": [
    "totalfeeding=count_recordings(data2015,'Feeding')+count_recordings(data2016,'Feeding')+count_recordings(data2017,'Feeding')+count_recordings(data2018,'Feeding')\n",
    "totalfeeding"
   ]
  },
  {
   "cell_type": "code",
   "execution_count": null,
   "metadata": {},
   "outputs": [],
   "source": [
    "# Data to plot\n",
    "labels = 'social', 'foraging', 'Feeding', 'normal'\n",
    "sizes = [totalsocial, totalforaging, totalfeeding, totalss-totalsocial-totalforaging-totalfeeding]\n",
    "colors = ['gold', 'yellowgreen', 'lightcoral', 'lightskyblue']\n",
    "explode = (0.1, 0, 0, 0)  # explode 1st slice\n",
    " \n",
    "# Plot\n",
    "plt.pie(sizes, explode=explode, labels=labels, colors=colors,\n",
    "        autopct='%1.1f%%', shadow=True, startangle=140,rotatelabels=True,labeldistance=1.3)\n",
    " \n",
    "plt.axis('equal')\n",
    "plt.show()\n",
    "# social:0.3%  foraging:1.5%  Feeding:0.1%  normal:98.2% "
   ]
  },
  {
   "cell_type": "markdown",
   "metadata": {},
   "source": [
    "# Initial result for pulse clustering"
   ]
  },
  {
   "cell_type": "code",
   "execution_count": null,
   "metadata": {},
   "outputs": [],
   "source": [
    "pulses=remove_noise(t,freq)"
   ]
  },
  {
   "cell_type": "code",
   "execution_count": null,
   "metadata": {},
   "outputs": [],
   "source": [
    "type(pulses)\n",
    "len(pulses)"
   ]
  },
  {
   "cell_type": "code",
   "execution_count": null,
   "metadata": {},
   "outputs": [],
   "source": [
    "# Find all the dy for a list of valid pulses\n",
    "pulse_dy=list()\n",
    "j=0\n",
    "for pulse in pulses:\n",
    "    i=0\n",
    "    dy=list()\n",
    "    for dot in pulse:\n",
    "        \n",
    "        if i==0:\n",
    "            prev_dot=dot[1]\n",
    "        else:\n",
    "            dy.append(dot[1]-prev_dot)\n",
    "            prev_dot=dot[1]\n",
    "        i+=1\n",
    "        \n",
    "    pulse_dy.append(dy)\n",
    "    "
   ]
  },
  {
   "cell_type": "code",
   "execution_count": null,
   "metadata": {},
   "outputs": [],
   "source": [
    "len(pulse_dy)"
   ]
  },
  {
   "cell_type": "code",
   "execution_count": null,
   "metadata": {},
   "outputs": [],
   "source": [
    "a=pd.DataFrame(pulse_dy[0]).describe()\n",
    "a"
   ]
  },
  {
   "cell_type": "code",
   "execution_count": null,
   "metadata": {},
   "outputs": [],
   "source": [
    "# get mean, sd, and five-number summary features for pulses\n",
    "def get_features(pulse_dy):\n",
    "    features=pd.DataFrame()\n",
    "    for dy in pulse_dy:\n",
    "        a=pd.DataFrame(dy).describe().iloc[1:8,].T\n",
    "        features=features.append(a)\n",
    "    return features\n",
    "    \n",
    "    "
   ]
  },
  {
   "cell_type": "code",
   "execution_count": null,
   "metadata": {},
   "outputs": [],
   "source": [
    "b=get_features(pulse_dy)"
   ]
  },
  {
   "cell_type": "code",
   "execution_count": null,
   "metadata": {},
   "outputs": [],
   "source": [
    "b.iloc[8:11,]"
   ]
  },
  {
   "cell_type": "code",
   "execution_count": null,
   "metadata": {},
   "outputs": [],
   "source": [
    "# Clustering a sample recording pulses using KMeans\n",
    "from sklearn.cluster import KMeans\n",
    "est = KMeans(2)  # 4 clusters\n",
    "# X=b.iloc[:,0:2]\n",
    "X=b\n",
    "est.fit(X)\n",
    "y_kmeans = est.predict(X)\n",
    "plt.figure(figsize=(10,8))\n",
    "plt.scatter(X.iloc[:, 0], X.iloc[:, 1], c=y_kmeans, s=50, cmap='rainbow');"
   ]
  },
  {
   "cell_type": "code",
   "execution_count": null,
   "metadata": {},
   "outputs": [],
   "source": [
    "# mask=y_kmeans==1\n",
    "\n",
    "# from itertools import compress\n",
    "# c=list(compress(pulses, mask))\n",
    "# len(c)\n",
    "\n",
    "y_kmeans"
   ]
  },
  {
   "cell_type": "code",
   "execution_count": null,
   "metadata": {},
   "outputs": [],
   "source": [
    "display_pulses(pulses,len(pulses),5,rand_flag=False, cluster=y_kmeans)"
   ]
  },
  {
   "cell_type": "code",
   "execution_count": null,
   "metadata": {},
   "outputs": [],
   "source": []
  }
 ],
 "metadata": {
  "kernelspec": {
   "display_name": "Python 3",
   "language": "python",
   "name": "python3"
  },
  "language_info": {
   "codemirror_mode": {
    "name": "ipython",
    "version": 3
   },
   "file_extension": ".py",
   "mimetype": "text/x-python",
   "name": "python",
   "nbconvert_exporter": "python",
   "pygments_lexer": "ipython3",
   "version": "3.6.5"
  }
 },
 "nbformat": 4,
 "nbformat_minor": 2
}
