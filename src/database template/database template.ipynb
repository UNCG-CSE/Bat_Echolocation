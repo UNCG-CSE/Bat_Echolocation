{
 "cells": [
  {
   "cell_type": "markdown",
   "metadata": {},
   "source": [
    "The following blocks of code show the SQLite database implementation in Python."
   ]
  },
  {
   "cell_type": "code",
   "execution_count": null,
   "metadata": {},
   "outputs": [],
   "source": [
    "import sqlite3, csv, numpy as np, matplotlib.pyplot as plt, pandas as pd, scipy.stats as stats, sklearn"
   ]
  },
  {
   "cell_type": "markdown",
   "metadata": {},
   "source": [
    "`sqlite3.connect(':memory:')`: creates temporary database storage that will reset after each execution of the code\n",
    "\n",
    "`sqlite3.connect('database.db')`: creates a database file that saves all additions and modifications through subsequent executions (i.e. like a storage server)"
   ]
  },
  {
   "cell_type": "code",
   "execution_count": null,
   "metadata": {},
   "outputs": [],
   "source": [
    "conn = sqlite3.connect(':memory:')\n",
    "c = conn.cursor()"
   ]
  },
  {
   "cell_type": "code",
   "execution_count": null,
   "metadata": {},
   "outputs": [],
   "source": [
    "def create_table(name,r):\n",
    "    with conn:\n",
    "        c.execute(\"CREATE TABLE \" + name + \" (time REAL, frequency REAL)\")\n",
    "        \n",
    "        # formerly the insert_point function, now infused into a for-loop within create_table\n",
    "        for line in r:\n",
    "            c.execute(\"INSERT INTO \" + name + \" VALUES (:x, :y)\", {\n",
    "                'x': line[0], # time column\n",
    "                'y': line[1]  # frequency column\n",
    "            })\n",
    "\n",
    "def show_table(name):\n",
    "    c.execute(\"SELECT * FROM \" + name)\n",
    "    return c.fetchall()\n",
    "            \n",
    "def get_no_of_rows(name):\n",
    "    c.execute(\"SELECT COUNT(*) FROM \" + name)\n",
    "    return c.fetchone()[0]\n",
    "\n",
    "def delete_point(name, x, y):\n",
    "    with conn:\n",
    "        c.execute(\"DELETE FROM \" + name + \" WHERE time = :x AND frequency = :y\", {'x': x, 'y': y})"
   ]
  },
  {
   "cell_type": "code",
   "execution_count": null,
   "metadata": {},
   "outputs": [],
   "source": [
    "file_name = 'P7132038_32'\n",
    "reader = csv.reader(open(file_name + '.csv'))\n",
    "\n",
    "next(reader) # skip over first-row labels"
   ]
  },
  {
   "cell_type": "code",
   "execution_count": null,
   "metadata": {},
   "outputs": [],
   "source": [
    "create_table(file_name,reader)"
   ]
  },
  {
   "cell_type": "code",
   "execution_count": null,
   "metadata": {},
   "outputs": [],
   "source": [
    "show_table('P7132038_32')"
   ]
  },
  {
   "cell_type": "code",
   "execution_count": null,
   "metadata": {},
   "outputs": [],
   "source": [
    "get_no_of_rows(file_name)"
   ]
  },
  {
   "cell_type": "markdown",
   "metadata": {},
   "source": [
    "The following blocks show an implementation of calculating a regression line using the least-squares method."
   ]
  },
  {
   "cell_type": "code",
   "execution_count": null,
   "metadata": {},
   "outputs": [],
   "source": [
    "c.execute(\"SELECT time FROM \" + file_name)\n",
    "x = np.array([line[0] for line in c])\n",
    "\n",
    "c.execute(\"SELECT frequency FROM \" + file_name)\n",
    "y = np.array([line[0] for line in c])"
   ]
  },
  {
   "cell_type": "code",
   "execution_count": null,
   "metadata": {},
   "outputs": [],
   "source": [
    "def least_squares_coefficients(x, y):\n",
    "    n = get_no_of_rows(file_name) # number of observations\n",
    "    \n",
    "    mean_x = np.mean(x) # mean of all x values\n",
    "    mean_y = np.mean(y) # mean of all y values\n",
    "    \n",
    "    cross_deviation_xy = np.sum(y*x - n*mean_x*mean_y)     # sum of cross-deviations of y and x\n",
    "    deviation_squared_xx = np.sum(x**2 - n*(mean_x**2))    # sum of the squared deviations of x\n",
    "    \n",
    "    slope = cross_deviation_xy / deviation_squared_xx\n",
    "    y_int = mean_y - slope*mean_x\n",
    "    \n",
    "    return(y_int, slope)\n",
    "\n",
    "def plot_ls_regression_line(x, y, c):\n",
    "    plt.scatter(x, y)                      # scatter plot\n",
    "    \n",
    "    predicted_y = c[0] + c[1]*x            # get the equation of the line\n",
    "    \n",
    "    plt.plot(x, predicted_y, color=\"b\")    # plot the line\n",
    "    \n",
    "    plt.xlabel('time')\n",
    "    plt.ylabel('frequency')\n",
    "    \n",
    "    plt.show()"
   ]
  },
  {
   "cell_type": "code",
   "execution_count": null,
   "metadata": {},
   "outputs": [],
   "source": [
    "coefficients = least_squares_coefficients(x, y)\n",
    "print(\"y-intercept: %f\" % coefficients[0])\n",
    "print(\"slope: %f\" % coefficients[1])\n",
    "print(\"linear regression line: predicted y = %f + %fx\" % (coefficients[0], coefficients[1]))\n",
    "\n",
    "plot_ls_regression_line(x, y, coefficients)"
   ]
  },
  {
   "cell_type": "code",
   "execution_count": null,
   "metadata": {},
   "outputs": [],
   "source": [
    "conn.close()"
   ]
  }
 ],
 "metadata": {
  "kernelspec": {
   "display_name": "Python 3",
   "language": "python",
   "name": "python3"
  },
  "language_info": {
   "codemirror_mode": {
    "name": "ipython",
    "version": 3
   },
   "file_extension": ".py",
   "mimetype": "text/x-python",
   "name": "python",
   "nbconvert_exporter": "python",
   "pygments_lexer": "ipython3",
   "version": "3.6.5"
  }
 },
 "nbformat": 4,
 "nbformat_minor": 2
}
