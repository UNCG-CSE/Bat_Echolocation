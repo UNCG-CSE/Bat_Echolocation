{
 "cells": [
  {
   "cell_type": "markdown",
   "metadata": {},
   "source": [
    "# To-do list:\n",
    "* import two-dimensional data table (i.e. like importing a class object)\n",
    "    * possibly a csv file?\n",
    "* add additional functions to modify table if necessary"
   ]
  },
  {
   "cell_type": "code",
   "execution_count": 3,
   "metadata": {},
   "outputs": [],
   "source": [
    "import sqlite3\n",
    "\n",
    "conn = sqlite3.connect('database.db')\n",
    "\n",
    "c = conn.cursor()\n",
    "\n",
    "def create_table(sweep):\n",
    "    with conn:\n",
    "        c.execute(\"\"\"CREATE TABLE :sweep (x INTEGER, y INTEGER)\"\"\",\n",
    "                 {'sweep': sweep.name})\n",
    "\n",
    "def insert_point(sweep, point):\n",
    "    with conn:\n",
    "        c.execute(\"INSERT INTO :sweep VALUES (:x, :y)\",\n",
    "                 {'x': sweep.point.x, 'y': sweep.point.y})\n",
    "\n",
    "def delete_point(sweep, point):\n",
    "    with conn:\n",
    "        c.execute(\"DELETE FROM :sweep WHERE x = :x AND y = :y\",\n",
    "                 {'x': sweep.point.x, 'y': sweep.point.y})\n",
    "        \n",
    "conn.close()"
   ]
  },
  {
   "cell_type": "code",
   "execution_count": null,
   "metadata": {},
   "outputs": [],
   "source": []
  }
 ],
 "metadata": {
  "kernelspec": {
   "display_name": "Python 3",
   "language": "python",
   "name": "python3"
  },
  "language_info": {
   "codemirror_mode": {
    "name": "ipython",
    "version": 3
   },
   "file_extension": ".py",
   "mimetype": "text/x-python",
   "name": "python",
   "nbconvert_exporter": "python",
   "pygments_lexer": "ipython3",
   "version": "3.6.5"
  }
 },
 "nbformat": 4,
 "nbformat_minor": 2
}
