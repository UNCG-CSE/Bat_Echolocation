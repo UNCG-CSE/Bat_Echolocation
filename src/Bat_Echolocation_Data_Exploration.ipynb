{
 "cells": [
  {
   "cell_type": "markdown",
   "metadata": {},
   "source": [
    "## Data Exploration\n",
    "Basic statistics and probability mass function of abnormal bat calls from training dataset"
   ]
  },
  {
   "cell_type": "markdown",
   "metadata": {},
   "source": [
    "### Training Data Summary\n",
    "*also see Yang Peng result*"
   ]
  },
  {
   "cell_type": "code",
   "execution_count": 1,
   "metadata": {},
   "outputs": [],
   "source": [
    "%matplotlib inline\n",
    "import os\n",
    "import pandas as pd\n",
    "import numpy as np\n",
    "import scipy.stats as stats\n",
    "import matplotlib.pyplot as plt\n"
   ]
  },
  {
   "cell_type": "code",
   "execution_count": 2,
   "metadata": {},
   "outputs": [],
   "source": [
    "def get_training_summary():\n",
    "    \n",
    "    year2015 = pd.read_table(os.path.join('../data','2015_night.txt'), \n",
    "                          header=0, engine='python')\n",
    "    year2015['Name']=year2015.Folder1 + year2015.Folder2.astype(str)\n",
    "    \n",
    "    year2016 = pd.read_table(os.path.join('../data', '2016_night.txt'), \n",
    "                            header=0, engine='python')\n",
    "    year2016['Name']=year2016.Folder1 + year2016.Folder2.astype(str)\n",
    "\n",
    "    year2017 = pd.read_table(os.path.join('../data', '2017_night.txt'), \n",
    "                            header=0, engine='python')\n",
    "    year2017['Name']=year2017.Folder1 + year2017.Folder2.astype(str)\n",
    "    \n",
    "    year2018 = pd.read_table(os.path.join('../data', '2018_night.txt'), \n",
    "                            header=0, engine='python')\n",
    "    year2018['Name']=year2018.Folder1 + year2018.Folder2.astype(str)\n",
    "\n",
    "\n",
    "    return year2015, year2016, year2017, year2018"
   ]
  },
  {
   "cell_type": "code",
   "execution_count": 3,
   "metadata": {},
   "outputs": [],
   "source": [
    "#get number of files in each training dataset folder\n",
    "\n",
    "def get_nfile(df):\n",
    "    df.loc[(df.Label != 'social') |(df.Label != 'foraging')|(df.Label != 'Feeding'), 'Normal'] = 1\n",
    "    df.loc[(df.Label == 'social')|(df.Label == 'foraging')|(df.Label == 'Feeding'), 'Normal'] = 0\n",
    "    df.loc[(df.Label != 'social') |(df.Label != 'foraging')|(df.Label != 'Feeding'), 'Abnormal'] = 0\n",
    "    df.loc[(df.Label == 'social')|(df.Label == 'foraging')|(df.Label == 'Feeding'), 'Abnormal'] = 1\n",
    "    df['nfile1']=df['Number']*df['Abnormal']\n",
    "    df['nfile0']=df['Number']*df['Normal']\n",
    "    nfile=(df.groupby(['Name'])['nfile0'].sum())-(df.groupby(['Name'])['nfile1'].sum())\n",
    "        \n",
    "    return nfile"
   ]
  },
  {
   "cell_type": "code",
   "execution_count": 4,
   "metadata": {},
   "outputs": [],
   "source": [
    "year2015, year2016, year2017, year2018 = get_training_summary()"
   ]
  },
  {
   "cell_type": "code",
   "execution_count": 5,
   "metadata": {},
   "outputs": [],
   "source": [
    "nfile_2015=get_nfile(year2015)\n",
    "nfile_2016=get_nfile(year2016)\n",
    "nfile_2017=get_nfile(year2017)\n",
    "nfile_2018=get_nfile(year2018)"
   ]
  },
  {
   "cell_type": "code",
   "execution_count": 11,
   "metadata": {},
   "outputs": [
    {
     "name": "stdout",
     "output_type": "stream",
     "text": [
      "  Folder1   Folder2       Night Label  Number            Name  Normal  \\\n",
      "0  cell-0  20150717  2015/07/17  LABO       9  cell-020150717     1.0   \n",
      "1  cell-0  20150717  2015/07/17  NOID       7  cell-020150717     1.0   \n",
      "2  cell-0  20150717  2015/07/17  NYHU      10  cell-020150717     1.0   \n",
      "3  cell-0  20150717  2015/07/17  PESU       1  cell-020150717     1.0   \n",
      "4  cell-0  20150717  2015/07/17  TABR       2  cell-020150717     1.0   \n",
      "\n",
      "   Abnormal  nfile1  nfile0  \n",
      "0       0.0     0.0     9.0  \n",
      "1       0.0     0.0     7.0  \n",
      "2       0.0     0.0    10.0  \n",
      "3       0.0     0.0     1.0  \n",
      "4       0.0     0.0     2.0  \n"
     ]
    }
   ],
   "source": [
    "print year2015.head()"
   ]
  },
  {
   "cell_type": "code",
   "execution_count": 12,
   "metadata": {},
   "outputs": [
    {
     "name": "stdout",
     "output_type": "stream",
     "text": [
      "Name\n",
      "cell-020150717     29.0\n",
      "cell-020150718     27.0\n",
      "cell-120150612     27.0\n",
      "cell-120150613     10.0\n",
      "cell-1220150614    17.0\n",
      "dtype: float64\n"
     ]
    }
   ],
   "source": [
    "print nfile_2015.head()"
   ]
  },
  {
   "cell_type": "markdown",
   "metadata": {},
   "source": [
    "### Basic statistics\n",
    "Histogram of file with abnormal vs. file with normal calls for each year. \n",
    "*see Thien Le result*"
   ]
  },
  {
   "cell_type": "markdown",
   "metadata": {},
   "source": [
    "### Probability Mass Function\n",
    "Given total files per year, what is the probability of finding a recording contains non-echolation bat calls in each given folder, also given the average number of recording files per folder for each year. Note: all files (n-hat) in the folder are processed without replacement."
   ]
  },
  {
   "cell_type": "code",
   "execution_count": 6,
   "metadata": {},
   "outputs": [],
   "source": [
    "#From Data Dictionary.pdf\n",
    "N_2015=2527\n",
    "N_2016=2766\n",
    "N_2017=3124\n",
    "N_2018=2209\n",
    "N=[N_2015,N_2016,N_2017,N_2018]\n",
    "M_2015=64\n",
    "M_2016=32\n",
    "M_2017=44\n",
    "M_2018=56\n",
    "M=[M_2015,M_2016,M_2017,M_2018]"
   ]
  },
  {
   "cell_type": "code",
   "execution_count": 7,
   "metadata": {},
   "outputs": [],
   "source": [
    "#get n-hat for each year\n",
    "n_2015=N_2015//len(year2015.groupby('Name'))\n",
    "n_2016=N_2016//len(year2016.groupby('Name'))\n",
    "n_2017=N_2017//len(year2017.groupby('Name'))\n",
    "n_2018=N_2015//len(year2018.groupby('Name'))\n",
    "n_hat=[n_2015,n_2016,n_2017,n_2018]"
   ]
  },
  {
   "cell_type": "code",
   "execution_count": 8,
   "metadata": {},
   "outputs": [],
   "source": [
    "#get theta-hat for each year\n",
    "p_2015=M_2015/float(N_2015)\n",
    "p_2016=M_2016/float(N_2016)\n",
    "p_2017=M_2017/float(N_2017)\n",
    "p_2018=M_2018/float(N_2018)\n",
    "theta_hat=[p_2015,p_2016,p_2017,p_2018]"
   ]
  },
  {
   "cell_type": "code",
   "execution_count": 9,
   "metadata": {},
   "outputs": [],
   "source": [
    "#get number of iteration (=size) based on number of total folder in each year\n",
    "s_2015=len(year2015.groupby('Name'))\n",
    "s_2016=len(year2016.groupby('Name'))\n",
    "s_2017=len(year2017.groupby('Name'))\n",
    "s_2018=len(year2018.groupby('Name'))\n",
    "size=[s_2015,s_2016,s_2017,s_2018]"
   ]
  },
  {
   "cell_type": "code",
   "execution_count": 17,
   "metadata": {},
   "outputs": [
    {
     "name": "stdout",
     "output_type": "stream",
     "text": [
      "   year     N   M  n_hat  theta_hat  size\n",
      "0  2015  2527  64     41   0.025326    61\n",
      "1  2016  2766  32     36   0.011569    75\n",
      "2  2017  3124  44     49   0.014085    63\n",
      "3  2018  2209  56     45   0.025351    56\n"
     ]
    }
   ],
   "source": [
    "#Create PMF dataframe\n",
    "year=[2015,2016,2017,2018]\n",
    "columns=[\"year\",\"N\",\"M\",\"n_hat\",\"theta_hat\",\"size\"]\n",
    "PMF_df=pd.DataFrame({'year':year,'N':N,'M':M,'n_hat':n_hat,'theta_hat':theta_hat,'size':size}, columns=columns)\n",
    "print PMF_df"
   ]
  },
  {
   "cell_type": "code",
   "execution_count": 19,
   "metadata": {},
   "outputs": [],
   "source": [
    "#Approximate hypergeometric with binomial distribution\n",
    "\n",
    "def get_dist(n,p,size):\n",
    "    np.random.seed(125)\n",
    "    dist = stats.binom.rvs(n=n, p=p, size=size)  \n",
    "    pd.DataFrame(dist).hist(range=(-0.5,10.5), bins=11, ec='black')"
   ]
  },
  {
   "cell_type": "code",
   "execution_count": 21,
   "metadata": {},
   "outputs": [
    {
     "data": {
      "text/plain": [
       "Text(0,0.5,'Frequency')"
      ]
     },
     "execution_count": 21,
     "metadata": {},
     "output_type": "execute_result"
    },
    {
     "data": {
      "image/png": "[encoded data removed]",
      "text/plain": [
       "<Figure size 432x288 with 1 Axes>"
      ]
     },
     "metadata": {
      "needs_background": "light"
     },
     "output_type": "display_data"
    }
   ],
   "source": [
    "get_dist(n=n_2015,p=p_2015,size=s_2015)\n",
    "plt.title('Year 2015')\n",
    "plt.xlabel('# of abnormal calls containing files')\n",
    "plt.ylabel('Frequency')"
   ]
  },
  {
   "cell_type": "code",
   "execution_count": 22,
   "metadata": {},
   "outputs": [
    {
     "data": {
      "text/plain": [
       "Text(0,0.5,'Frequency')"
      ]
     },
     "execution_count": 22,
     "metadata": {},
     "output_type": "execute_result"
    },
    {
     "data": {
      "image/png": "[encoded data removed]",
      "text/plain": [
       "<Figure size 432x288 with 1 Axes>"
      ]
     },
     "metadata": {
      "needs_background": "light"
     },
     "output_type": "display_data"
    }
   ],
   "source": [
    "get_dist(n=n_2016,p=p_2016,size=s_2016)\n",
    "plt.title('Year 2016')\n",
    "plt.xlabel('# of abnormal calls containing files')\n",
    "plt.ylabel('Frequency')"
   ]
  },
  {
   "cell_type": "code",
   "execution_count": 23,
   "metadata": {},
   "outputs": [
    {
     "data": {
      "text/plain": [
       "Text(0,0.5,'Frequency')"
      ]
     },
     "execution_count": 23,
     "metadata": {},
     "output_type": "execute_result"
    },
    {
     "data": {
      "image/png": "[encoded data removed]",
      "text/plain": [
       "<Figure size 432x288 with 1 Axes>"
      ]
     },
     "metadata": {
      "needs_background": "light"
     },
     "output_type": "display_data"
    }
   ],
   "source": [
    "get_dist(n=n_2017,p=p_2017,size=s_2017)\n",
    "plt.title('Year 2017')\n",
    "plt.xlabel('# of abnormal calls containing files')\n",
    "plt.ylabel('Frequency')"
   ]
  },
  {
   "cell_type": "code",
   "execution_count": 24,
   "metadata": {},
   "outputs": [
    {
     "data": {
      "text/plain": [
       "Text(0,0.5,'Frequency')"
      ]
     },
     "execution_count": 24,
     "metadata": {},
     "output_type": "execute_result"
    },
    {
     "data": {
      "image/png": "[encoded data removed]",
      "text/plain": [
       "<Figure size 432x288 with 1 Axes>"
      ]
     },
     "metadata": {
      "needs_background": "light"
     },
     "output_type": "display_data"
    }
   ],
   "source": [
    "get_dist(n=n_2018,p=p_2018,size=s_2018)\n",
    "plt.title('Year 2018')\n",
    "plt.xlabel('# of abnormal calls containing files')\n",
    "plt.ylabel('Frequency')"
   ]
  },
  {
   "cell_type": "markdown",
   "metadata": {},
   "source": [
    "**_In here, we only plot PMF for year 2015_**"
   ]
  },
  {
   "cell_type": "code",
   "execution_count": 25,
   "metadata": {},
   "outputs": [],
   "source": [
    "non_echo=[]\n",
    "for k in range(11):\n",
    "    non_echo_pmf=stats.binom.pmf(k=k, n=n_2015, p= p_2015) \n",
    "    non_echo.append(non_echo_pmf)"
   ]
  },
  {
   "cell_type": "code",
   "execution_count": 26,
   "metadata": {
    "scrolled": true
   },
   "outputs": [
    {
     "data": {
      "image/png": "[encoded data removed]",
      "text/plain": [
       "<Figure size 432x288 with 1 Axes>"
      ]
     },
     "metadata": {
      "needs_background": "light"
     },
     "output_type": "display_data"
    }
   ],
   "source": [
    "fig = plt.figure()\n",
    "ax = fig.add_subplot(111)\n",
    "ax.plot(range(11), non_echo, 'bo')\n",
    "ax.vlines(range(11), 0, non_echo, lw=2)\n",
    "ax.set_xlabel('# of abnormal calls containing file in a given folder')\n",
    "ax.set_ylabel('PMF')\n",
    "plt.title('PMF for Year 2015')\n",
    "plt.show()"
   ]
  },
  {
   "cell_type": "markdown",
   "metadata": {},
   "source": [
    "__Interpretation__: For batch processing of data, the probability of finding none to one recording file that contains abnormal calls is most likely to happen in at least 3 out of 10 given folder. About 2 out of 10 given folder will probably contain 2 files that contain abnormal calls. "
   ]
  },
  {
   "cell_type": "markdown",
   "metadata": {},
   "source": [
    "### Signals Summary\n",
    "*see YP and HS results*"
   ]
  }
 ],
 "metadata": {
  "kernelspec": {
   "display_name": "Python 2",
   "language": "python",
   "name": "python2"
  },
  "language_info": {
   "codemirror_mode": {
    "name": "ipython",
    "version": 2
   },
   "file_extension": ".py",
   "mimetype": "text/x-python",
   "name": "python",
   "nbconvert_exporter": "python",
   "pygments_lexer": "ipython2",
   "version": "2.7.15"
  }
 },
 "nbformat": 4,
 "nbformat_minor": 2
}
