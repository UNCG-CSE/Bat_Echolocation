{
 "cells": [
  {
   "cell_type": "code",
   "execution_count": 1,
   "metadata": {
    "scrolled": true
   },
   "outputs": [
    {
     "name": "stdout",
     "output_type": "stream",
     "text": [
      "Database access granted - current database is csc505-bat-echolocation\n",
      "Current database: csc505-bat-echolocation\n",
      "Current tables in csc505-bat-echolocation: []\n",
      "Table \"P7132033_37\" has been created successfully.\n",
      "Current tables in csc505-bat-echolocation: ['p7132033_37']\n",
      "Current tables: ['p7132033_37']\n"
     ]
    }
   ],
   "source": [
    "from util.dbmod_MySQL import *\n",
    "connect_to_db('localhost', 'root', '', 'csc505-bat-echolocation')\n",
    "create_table('P7132033_37')"
   ]
  },
  {
   "cell_type": "code",
   "execution_count": 2,
   "metadata": {},
   "outputs": [],
   "source": [
    "import csv\n",
    "fdir = '../data/P7132033_37.csv'\n",
    "data_name = fdir[8:19]\n",
    "reader = csv.reader(open('../data/P7132033_37.csv'))\n",
    "next(reader)\n",
    "tmp = [line for line in reader]"
   ]
  },
  {
   "cell_type": "code",
   "execution_count": 3,
   "metadata": {},
   "outputs": [],
   "source": [
    "for i in range(0, len(tmp)):\n",
    "    insert_into_table(data_name, tmp[i][0], tmp[i][1])"
   ]
  },
  {
   "cell_type": "code",
   "execution_count": 5,
   "metadata": {},
   "outputs": [
    {
     "data": {
      "text/plain": [
       "[('p7132033_37',)]"
      ]
     },
     "execution_count": 5,
     "metadata": {},
     "output_type": "execute_result"
    }
   ],
   "source": [
    "import mysql.connector\n",
    "conn = mysql.connector.connect(host='localhost', user='root', passwd='', database='csc505-bat-echolocation')\n",
    "c = conn.cursor()\n",
    "c.execute(\"SHOW TABLES;\")"
   ]
  }
 ],
 "metadata": {
  "kernelspec": {
   "display_name": "Python 3",
   "language": "python",
   "name": "python3"
  },
  "language_info": {
   "codemirror_mode": {
    "name": "ipython",
    "version": 3
   },
   "file_extension": ".py",
   "mimetype": "text/x-python",
   "name": "python",
   "nbconvert_exporter": "python",
   "pygments_lexer": "ipython3",
   "version": "3.7.1"
  }
 },
 "nbformat": 4,
 "nbformat_minor": 2
}
