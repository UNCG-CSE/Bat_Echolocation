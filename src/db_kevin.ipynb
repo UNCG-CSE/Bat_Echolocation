{
 "cells": [
  {
   "cell_type": "code",
   "execution_count": 1,
   "metadata": {},
   "outputs": [],
   "source": [
    "from util.dbmod_MySQL import *\n",
    "from util.bat import *"
   ]
  },
  {
   "cell_type": "code",
   "execution_count": 2,
   "metadata": {},
   "outputs": [],
   "source": [
    "db_conn = mysql.connector.connect(host='localhost', user='root', passwd='')\n",
    "c = db_conn.cursor()"
   ]
  },
  {
   "cell_type": "code",
   "execution_count": 25,
   "metadata": {},
   "outputs": [
    {
     "data": {
      "text/plain": [
       "['information_schema',\n",
       " 'csc505-bat-echolocation',\n",
       " 'dbcsc471',\n",
       " 'mysql',\n",
       " 'performance_schema',\n",
       " 'sys',\n",
       " 'temp']"
      ]
     },
     "execution_count": 25,
     "metadata": {},
     "output_type": "execute_result"
    }
   ],
   "source": [
    "c.execute(\"SHOW DATABASES;\")\n",
    "tmp = c.fetchall()\n",
    "tmp_lst = [tmp[i][0] for i in range(0, len(tmp))]\n",
    "tmp_lst"
   ]
  },
  {
   "cell_type": "code",
   "execution_count": null,
   "metadata": {},
   "outputs": [],
   "source": [
    "db_conn = mysql.connector.connect(host='localhost', user='root', passwd='', database='csc505-bat-echolocation')\n",
    "c = db_conn.cursor()"
   ]
  },
  {
   "cell_type": "code",
   "execution_count": null,
   "metadata": {},
   "outputs": [],
   "source": [
    "c.execute(\"SHOW TABLES;\")\n",
    "c.fetchall()[0][0]"
   ]
  },
  {
   "cell_type": "code",
   "execution_count": null,
   "metadata": {},
   "outputs": [],
   "source": [
    "c.execute(\"SHOW COLUMNS FROM data1;\")\n",
    "c.fetchall()[1][0]"
   ]
  },
  {
   "cell_type": "code",
   "execution_count": null,
   "metadata": {},
   "outputs": [],
   "source": [
    "data = extract_anabat('../data/P7132033.37#')\n",
    "time_list = data[0]\n",
    "freq_list = data[1]"
   ]
  }
 ],
 "metadata": {
  "kernelspec": {
   "display_name": "Python 3",
   "language": "python",
   "name": "python3"
  },
  "language_info": {
   "codemirror_mode": {
    "name": "ipython",
    "version": 3
   },
   "file_extension": ".py",
   "mimetype": "text/x-python",
   "name": "python",
   "nbconvert_exporter": "python",
   "pygments_lexer": "ipython3",
   "version": "3.7.1"
  }
 },
 "nbformat": 4,
 "nbformat_minor": 2
}
