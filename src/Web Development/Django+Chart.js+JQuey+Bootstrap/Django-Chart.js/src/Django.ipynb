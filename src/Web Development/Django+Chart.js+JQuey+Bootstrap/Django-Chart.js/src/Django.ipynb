{
 "cells": [
  {
   "cell_type": "markdown",
   "metadata": {},
   "source": [
    "# Create a User-friendly Interface using Django and Graph.js"
   ]
  },
  {
   "cell_type": "markdown",
   "metadata": {},
   "source": [
    "### Django View.py"
   ]
  },
  {
   "cell_type": "code",
   "execution_count": null,
   "metadata": {
    "collapsed": true
   },
   "outputs": [],
   "source": [
    "from django.contrib.auth import get_user_model\n",
    "from django.http import JsonResponse\n",
    "from django.shortcuts import render\n",
    "from django.views.generic import View\n",
    "\n",
    "from rest_framework.views import APIView\n",
    "from rest_framework.response import Response\n",
    "\n",
    "\n",
    "User = get_user_model()\n",
    "\n",
    "\n",
    "class HomeView(View):\n",
    "    def get(self, request, *args, **kwargs):\n",
    "        return render(request, 'charts.html', {\"customers\": 10})\n",
    "\n",
    "\n",
    "def get_data(request, *args, **kwargs):\n",
    "    data = {\n",
    "        \"sales\": 100,\n",
    "        \"customers\": 10,\n",
    "    }\n",
    "    return JsonResponse(data)  # http response\n",
    "\n",
    "\n",
    "# Django REST API \n",
    "class ChartData(APIView):\n",
    "    authentication_classes = []\n",
    "    permission_classes = []\n",
    "\n",
    "    def get(self, request, format=None):\n",
    "        qs_count = User.objects.all().count()\n",
    "        labels = [\"Users\", \"Night\", \"Day\", \"Social\", \"Forage\"]\n",
    "        default_items = [qs_count, 23, 2, 3, 12]\n",
    "        data = {\n",
    "            \"labels\": labels,\n",
    "            \"default\": default_items,\n",
    "        }\n",
    "        return Response(data)\n"
   ]
  },
  {
   "cell_type": "markdown",
   "metadata": {},
   "source": [
    "### chart.html"
   ]
  },
  {
   "cell_type": "code",
   "execution_count": null,
   "metadata": {
    "collapsed": true
   },
   "outputs": [],
   "source": [
    "{% extends 'base.html' %}\n",
    "\n",
    "<script>\n",
    "{% block jquery %}\n",
    "var endpoint = '/api/chart/data/'\n",
    "var defaultData = []\n",
    "var labels = [];\n",
    "$.ajax({\n",
    "    method: \"GET\",\n",
    "    url: endpoint,\n",
    "    success: function(data){\n",
    "        labels = data.labels\n",
    "        defaultData = data.default\n",
    "        setChart()\n",
    "    },\n",
    "    error: function(error_data){\n",
    "        console.log(\"error\")\n",
    "        console.log(error_data)\n",
    "    }\n",
    "})\n"
   ]
  },
  {
   "cell_type": "markdown",
   "metadata": {},
   "source": [
    "### Using Chart.js"
   ]
  },
  {
   "cell_type": "code",
   "execution_count": null,
   "metadata": {
    "collapsed": true
   },
   "outputs": [],
   "source": [
    "function setChart(){\n",
    "    var ctx = document.getElementById(\"myChart\");\n",
    "    var ctx2 = document.getElementById(\"myChart2\");\n",
    "    var myChart = new Chart(ctx2, {\n",
    "    type: 'bar',\n",
    "    data: {\n",
    "        labels: labels,\n",
    "        datasets: [{\n",
    "            label: '# Frequencies',\n",
    "            data: defaultData,\n",
    "            backgroundColor: [\n",
    "                'rgba(255, 99, 132, 0.2)',\n",
    "                'rgba(54, 162, 235, 0.2)',\n",
    "                'rgba(255, 206, 86, 0.2)',\n",
    "                'rgba(75, 192, 192, 0.2)',\n",
    "                'rgba(153, 102, 255, 0.2)',\n",
    "                'rgba(255, 159, 64, 0.2)'\n",
    "            ],\n",
    "            borderColor: [\n",
    "                'rgba(255,99,132,1)',\n",
    "                'rgba(54, 162, 235, 1)',\n",
    "                'rgba(255, 206, 86, 1)',\n",
    "                'rgba(75, 192, 192, 1)',\n",
    "                'rgba(153, 102, 255, 1)',\n",
    "                'rgba(255, 159, 64, 1)'\n",
    "            ],\n",
    "            borderWidth: 1\n",
    "        }]\n",
    "    },\n",
    "    options: {\n",
    "        scales: {\n",
    "            yAxes: [{\n",
    "                ticks: {\n",
    "                    beginAtZero:true\n",
    "                }\n",
    "            }]\n",
    "        }\n",
    "    }\n",
    "});\n"
   ]
  },
  {
   "cell_type": "markdown",
   "metadata": {},
   "source": [
    "### Urls.py"
   ]
  },
  {
   "cell_type": "code",
   "execution_count": null,
   "metadata": {
    "collapsed": true
   },
   "outputs": [],
   "source": [
    "from django.conf.urls import url\n",
    "from django.contrib import admin\n",
    "\n",
    "from .views import HomeView, get_data, ChartData\n",
    "\n",
    "\n",
    "urlpatterns = [\n",
    "    url(r'^$', HomeView.as_view(), name='home'),\n",
    "    url(r'^api/data/$', get_data, name='api-data'),\n",
    "    url(r'^api/chart/data/$', ChartData.as_view()),\n",
    "    url(r'^admin/', admin.site.urls),\n",
    "\n",
    "]\n"
   ]
  },
  {
   "cell_type": "markdown",
   "metadata": {
    "collapsed": true
   },
   "source": [
    "http://127.0.0.1:8000/\n",
    "\n",
    "http://127.0.0.1:8000/api/chart/data/\n",
    "\n",
    "http://127.0.0.1:8000/api/data/\n",
    "\n",
    "http://127.0.0.1:8000/admin"
   ]
  },
  {
   "cell_type": "markdown",
   "metadata": {},
   "source": [
    "### Run the local server"
   ]
  },
  {
   "cell_type": "code",
   "execution_count": null,
   "metadata": {},
   "outputs": [],
   "source": [
    "!python manage.py runserver"
   ]
  },
  {
   "cell_type": "code",
   "execution_count": null,
   "metadata": {
    "collapsed": true
   },
   "outputs": [],
   "source": []
  }
 ],
 "metadata": {
  "kernelspec": {
   "display_name": "Python 3",
   "language": "python",
   "name": "python3"
  },
  "language_info": {
   "codemirror_mode": {
    "name": "ipython",
    "version": 3
   },
   "file_extension": ".py",
   "mimetype": "text/x-python",
   "name": "python",
   "nbconvert_exporter": "python",
   "pygments_lexer": "ipython3",
   "version": "3.6.3"
  }
 },
 "nbformat": 4,
 "nbformat_minor": 2
}
