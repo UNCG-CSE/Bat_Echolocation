{
 "cells": [
  {
   "cell_type": "markdown",
   "metadata": {},
   "source": [
    "# Multi .csv data reader and starter to perform tasks\n",
    "First, zero-crossing data were preprocessed using `readAnabat()` from AnabatTools.R in R. The preprocessing returns .csv files that contains frequency (kHz) and time (microsecond)."
   ]
  },
  {
   "cell_type": "code",
   "execution_count": 1,
   "metadata": {},
   "outputs": [],
   "source": [
    "import os\n",
    "import glob\n",
    "import pandas as pd"
   ]
  },
  {
   "cell_type": "code",
   "execution_count": 5,
   "metadata": {},
   "outputs": [
    {
     "name": "stdout",
     "output_type": "stream",
     "text": [
      "6208\n",
      "12692\n",
      "6058\n"
     ]
    }
   ],
   "source": [
    "#loop .csv files to perform any task\n",
    "#example return number of row\n",
    "\n",
    "for filenames in glob.glob('../data/Multi_data_Trialsize/*.csv'):\n",
    "    reader=pd.read_csv(filenames)\n",
    "    nrow= reader.shape [0]\n",
    "    print nrow"
   ]
  },
  {
   "cell_type": "code",
   "execution_count": 6,
   "metadata": {},
   "outputs": [
    {
     "data": {
      "text/plain": [
       "['../data/Multi_data_Trialsize\\\\P7132033_37.csv',\n",
       " '../data/Multi_data_Trialsize\\\\P7132035_14.csv',\n",
       " '../data/Multi_data_Trialsize\\\\P7132037_05.csv']"
      ]
     },
     "execution_count": 6,
     "metadata": {},
     "output_type": "execute_result"
    }
   ],
   "source": [
    "#list of .csv files in the working directory\n",
    "nfile=[]\n",
    "for filenames in glob.glob('../data/Multi_data_Trialsize/*.csv'):\n",
    "    nfile.append(filenames)\n",
    "\n",
    "nfile"
   ]
  },
  {
   "cell_type": "code",
   "execution_count": 7,
   "metadata": {},
   "outputs": [
    {
     "name": "stdout",
     "output_type": "stream",
     "text": [
      "      Filename  Time  Frequency\n",
      "0  P7132033_37    10        NaN\n",
      "1  P7132033_37    99        NaN\n",
      "2  P7132033_37   183    46242.0\n",
      "3  P7132033_37   270    46783.0\n",
      "4  P7132033_37   359    45454.0\n"
     ]
    }
   ],
   "source": [
    "#example reading first nfile\n",
    "print pd.read_csv(nfile[0]).head()"
   ]
  },
  {
   "cell_type": "markdown",
   "metadata": {},
   "source": [
    "# Processing zero-crossing files with bat.py\n",
    "bat.py is in-house tools to extract zero crossing modified from ZCANT `extract_anabat()` function and to remove noise."
   ]
  },
  {
   "cell_type": "code",
   "execution_count": 8,
   "metadata": {},
   "outputs": [],
   "source": [
    "%matplotlib inline\n",
    "import matplotlib.pyplot as plt\n",
    "import numpy as np\n",
    "import random\n",
    "import os\n",
    "import pandas as pd\n",
    "import glob\n",
    "import errno\n",
    "from util.bat import *\n",
    "\n",
    "# Set some Pandas options\n",
    "pd.set_option('notebook_repr_html', True)\n",
    "pd.set_option('max_columns', 30)\n",
    "pd.set_option('max_rows', 20)"
   ]
  },
  {
   "cell_type": "code",
   "execution_count": 20,
   "metadata": {},
   "outputs": [],
   "source": [
    "\n",
    "def get_batcall_csv(datadir,outdir):\n",
    "    \"\"\"\n",
    "        Given a folder directory extract zero crossing data and create .csv files\n",
    "    \"\"\"\n",
    "    \n",
    "    filenames = glob.glob(datadir + '/*#')\n",
    "\n",
    "    info=list()\n",
    "    \n",
    "\n",
    "    for filename in glob.glob(datadir + '/*#'):\n",
    "        signal=list(extract_anabat(filename))\n",
    "        signal.append(filename)\n",
    "        info.append(signal)\n",
    "    \n",
    "    for i, item in enumerate (filenames):\n",
    "        t=info[i][0]\n",
    "        freq=info[i][1]\n",
    "        ampl=info[i][2] #Empty array\n",
    "        metadata=info[i][3]\n",
    "        filename=np.repeat(info[i][4][-12:],len(t))\n",
    "    \n",
    "        columns=[\"Filename\",\"Time\", \"Frequency\"] #,\"Label0\",\"Label1\",\"Label2\"]\n",
    "        batcall_df=pd.DataFrame({'Filename':filename,'Time':t,'Frequency':freq}, columns=columns) #,'Label0':label0,'Label1':label1,'Label2':label2}, columns=columns)\n",
    "        batcall_df.to_csv(outdir + '/' + info[i][4][-12:] + \".csv\", index=False)\n",
    "    "
   ]
  },
  {
   "cell_type": "code",
   "execution_count": 4,
   "metadata": {},
   "outputs": [
    {
     "data": {
      "text/plain": [
       "'C:\\\\Users\\\\bty\\\\Desktop\\\\CSC505\\\\Bat_Echolocation\\\\src'"
      ]
     },
     "execution_count": 4,
     "metadata": {},
     "output_type": "execute_result"
    }
   ],
   "source": [
    "os.getcwd()   "
   ]
  },
  {
   "cell_type": "code",
   "execution_count": 10,
   "metadata": {},
   "outputs": [],
   "source": [
    "os.chdir('C:/Users/bty/Desktop/CSC505/Bat_Echolocation/data')"
   ]
  },
  {
   "cell_type": "code",
   "execution_count": 22,
   "metadata": {},
   "outputs": [],
   "source": [
    "#Create outdir in current directory\n",
    "\n",
    "path='./outfun'\n",
    "try:\n",
    "    os.mkdir(path)\n",
    "except OSError as e:\n",
    "    if e.errno != errno.EEXIST:\n",
    "        raise"
   ]
  },
  {
   "cell_type": "code",
   "execution_count": 23,
   "metadata": {},
   "outputs": [],
   "source": [
    "datadir='C:/Users/bty/Desktop/CSC505/Bat_Echolocation/data/social'\n",
    "outdir='C:/Users/bty/Desktop/CSC505/Bat_Echolocation/data/outfun'\n",
    "get_batcall_csv(datadir,outdir)"
   ]
  },
  {
   "cell_type": "code",
   "execution_count": 24,
   "metadata": {},
   "outputs": [
    {
     "data": {
      "text/plain": [
       "['../data/outfun\\\\S8072135.07#.csv',\n",
       " '../data/outfun\\\\S8072143.12#.csv',\n",
       " '../data/outfun\\\\S8072159.22#.csv']"
      ]
     },
     "execution_count": 24,
     "metadata": {},
     "output_type": "execute_result"
    }
   ],
   "source": [
    "nfile=[]\n",
    "for filenames in glob.glob('../data/outfun/*.csv'):\n",
    "    nfile.append(filenames)\n",
    "\n",
    "nfile"
   ]
  },
  {
   "cell_type": "code",
   "execution_count": 25,
   "metadata": {},
   "outputs": [
    {
     "name": "stdout",
     "output_type": "stream",
     "text": [
      "       Filename      Time     Frequency\n",
      "0  S8072135.07#  0.000108  38095.238095\n",
      "1  S8072135.07#  0.000211  37383.177570\n",
      "2  S8072135.07#  0.000318  37735.849057\n",
      "3  S8072135.07#  0.000425  37383.177570\n",
      "4  S8072135.07#  0.000530  37383.177570\n"
     ]
    }
   ],
   "source": [
    "print pd.read_csv(nfile[0]).head()"
   ]
  },
  {
   "cell_type": "code",
   "execution_count": null,
   "metadata": {},
   "outputs": [],
   "source": []
  }
 ],
 "metadata": {
  "kernelspec": {
   "display_name": "Python 2",
   "language": "python",
   "name": "python2"
  },
  "language_info": {
   "codemirror_mode": {
    "name": "ipython",
    "version": 2
   },
   "file_extension": ".py",
   "mimetype": "text/x-python",
   "name": "python",
   "nbconvert_exporter": "python",
   "pygments_lexer": "ipython2",
   "version": "2.7.15"
  }
 },
 "nbformat": 4,
 "nbformat_minor": 2
}
